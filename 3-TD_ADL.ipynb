{
  "nbformat": 4,
  "nbformat_minor": 0,
  "metadata": {
    "colab": {
      "name": "3-TD_ADL.ipynb",
      "version": "0.3.2",
      "provenance": []
    },
    "kernelspec": {
      "display_name": "Python 3",
      "language": "python",
      "name": "python3"
    },
    "accelerator": "GPU"
  },
  "cells": [
    {
      "metadata": {
        "colab_type": "text",
        "id": "zeJhO9RPLyRZ"
      },
      "cell_type": "markdown",
      "source": [
        "# Small data and deep learning\n",
        "This mini-project proposes to study several techniques for improving challenging context, in which few data and resources are available."
      ]
    },
    {
      "metadata": {
        "colab_type": "code",
        "id": "7H2lhj6gLyRU",
        "colab": {}
      },
      "cell_type": "code",
      "source": [
        "%matplotlib inline"
      ],
      "execution_count": 0,
      "outputs": []
    },
    {
      "metadata": {
        "colab_type": "text",
        "id": "q-ZDU0bjLyRa"
      },
      "cell_type": "markdown",
      "source": [
        "# Introduction\n",
        "Assume we are in a context where few \"gold\" labeled data are available for training, say $\\mathcal{X}_{\\text{train}}\\triangleq\\{(x_n,y_n)\\}_{n\\leq N_{\\text{train}}}$, where $N_{\\text{train}}$ is small. A large test set $\\mathcal{X}_{\\text{test}}$ is available. A large amount of unlabeled data, $\\mathcal{X}$, is available. We also assume that we have a limited computational budget (e.g., no GPUs).\n",
        "\n",
        "For each question, write a commented *Code* or a complete answer as a *Markdown*. When the objective of a question is to report a CNN accuracy, please use the following format to report it, at the end of the question:\n",
        "\n",
        "| Model | Number of  epochs  | Train accuracy | Test accuracy |\n",
        "|------|------|------|------|\n",
        "|   XXX  | XXX | XXX | XXX |\n",
        "\n",
        "If applicable, please add the field corresponding to the  __Accuracy on Full Data__ as well as a link to the __Reference paper__ you used to report those numbers. (You do not need to train a CNN on the full CIFAR10 dataset)\n",
        "\n",
        "In your final report, please keep the logs of each training procedure you used. We will only run this jupyter if we have some doubts on your implementation. \n",
        "\n",
        "__The total file sizes should not exceed 2MB. Please name your notebook (LASTNAME)\\_(FIRSTNAME).ipynb, zip/tar it with any necessary files required to run your notebook, in a compressed file named (LASTNAME)\\_(FIRSTNAME).X where X is the corresponding extension. Zip/tar files exceeding 2MB will not be considered for grading. Submit the compressed file via the submission link provided on the website of the class.__\n",
        "\n",
        "You can use https://colab.research.google.com/ to run your experiments."
      ]
    },
    {
      "metadata": {
        "colab_type": "text",
        "id": "b60U5du3LyRb"
      },
      "cell_type": "markdown",
      "source": [
        "## Training set creation\n",
        "__Question 1:__ Propose a dataloader or modify the file located at https://github.com/pytorch/vision/blob/master/torchvision/datasets/cifar.py in order to obtain a training loader that will only use the first 100 samples of the CIFAR-10 training set. "
      ]
    },
    {
      "metadata": {
        "colab_type": "text",
        "id": "gk5ETsCyLyRc"
      },
      "cell_type": "markdown",
      "source": [
        "### Dependencies"
      ]
    },
    {
      "metadata": {
        "colab_type": "code",
        "id": "mAGYF_H3LyRd",
        "colab": {}
      },
      "cell_type": "code",
      "source": [
        "import matplotlib.pyplot as plt"
      ],
      "execution_count": 0,
      "outputs": []
    },
    {
      "metadata": {
        "colab_type": "text",
        "id": "nQmCidX2LyRg"
      },
      "cell_type": "markdown",
      "source": [
        "### Import downloader behaviours"
      ]
    },
    {
      "metadata": {
        "colab_type": "code",
        "id": "liXruxpqLyRh",
        "colab": {}
      },
      "cell_type": "code",
      "source": [
        "from PIL import Image\n",
        "import os\n",
        "import os.path\n",
        "import numpy as np\n",
        "import sys\n",
        "if sys.version_info[0] == 2:\n",
        "    import cPickle as pickle\n",
        "else:\n",
        "    import pickle\n",
        "\n",
        "import torch.utils.data as data\n",
        "\n",
        "import os\n",
        "import os.path\n",
        "import hashlib\n",
        "import errno\n",
        "from torch.utils.model_zoo import tqdm\n",
        "\n",
        "## UTILS FUNCTION from https://github.com/pytorch/vision/blob/master/torchvision/datasets/utils.py\n",
        "\n",
        "def check_integrity(fpath, md5=None):\n",
        "    \"\"\" Check integrity of downloaded file using md5 digital signature\n",
        "    \n",
        "    \"\"\"\n",
        "    if md5 is None:\n",
        "        return True\n",
        "    if not os.path.isfile(fpath):\n",
        "        return False\n",
        "    md5o = hashlib.md5()\n",
        "    with open(fpath, 'rb') as f:\n",
        "        # read in 1MB chunks\n",
        "        for chunk in iter(lambda: f.read(1024 * 1024), b''):\n",
        "            md5o.update(chunk)\n",
        "    md5c = md5o.hexdigest()\n",
        "    if md5c != md5:\n",
        "        return False\n",
        "    return True\n",
        "\n",
        "\n",
        "def download_url(url, root, filename=None, md5=None):\n",
        "    \"\"\"Download a file from a url and place it in root.\n",
        "    Args:\n",
        "        url (str): URL to download file from\n",
        "        root (str): Directory to place downloaded file in\n",
        "        filename (str, optional): Name to save the file under. If None, use the basename of the URL\n",
        "        md5 (str, optional): MD5 checksum of the download. If None, do not check\n",
        "    \"\"\"\n",
        "    from six.moves import urllib\n",
        "\n",
        "    root = os.path.expanduser(root)\n",
        "    if not filename:\n",
        "        filename = os.path.basename(url)\n",
        "    fpath = os.path.join(root, filename)\n",
        "\n",
        "    makedir_exist_ok(root)\n",
        "\n",
        "    # downloads file\n",
        "    if os.path.isfile(fpath) and check_integrity(fpath, md5):\n",
        "        print('Using downloaded and verified file: ' + fpath)\n",
        "    else:\n",
        "        try:\n",
        "            print('Downloading ' + url + ' to ' + fpath)\n",
        "            urllib.request.urlretrieve(\n",
        "                url, fpath,\n",
        "                reporthook=gen_bar_updater()\n",
        "            )\n",
        "        except OSError:\n",
        "            if url[:5] == 'https':\n",
        "                url = url.replace('https:', 'http:')\n",
        "                print('Failed download. Trying https -> http instead.'\n",
        "                      ' Downloading ' + url + ' to ' + fpath)\n",
        "                urllib.request.urlretrieve(\n",
        "                    url, fpath,\n",
        "                    reporthook=gen_bar_updater()\n",
        "                )\n",
        "\n",
        "def makedir_exist_ok(dirpath):\n",
        "    \"\"\"\n",
        "    Python2 support for os.makedirs(.., exist_ok=True)\n",
        "    \"\"\"\n",
        "    try:\n",
        "        os.makedirs(dirpath)\n",
        "    except OSError as e:\n",
        "        if e.errno == errno.EEXIST:\n",
        "            pass\n",
        "        else:\n",
        "            raise\n",
        "            \n",
        "def gen_bar_updater():\n",
        "    pbar = tqdm(total=None)\n",
        "\n",
        "    def bar_update(count, block_size, total_size):\n",
        "        if pbar.total is None and total_size:\n",
        "            pbar.total = total_size\n",
        "        progress_bytes = count * block_size\n",
        "        pbar.update(progress_bytes - pbar.n)\n",
        "\n",
        "    return bar_update\n",
        "\n",
        "## CIFAR DATASET DOWNLOADER from https://github.com/pytorch/vision/blob/master/torchvision/datasets/cifar.py\n",
        "    \n",
        "class CIFAR10(data.Dataset):\n",
        "    \"\"\"`CIFAR10 <https://www.cs.toronto.edu/~kriz/cifar.html>`_ Dataset.\n",
        "    Args:\n",
        "        root (string): Root directory of dataset where directory\n",
        "            ``cifar-10-batches-py`` exists or will be saved to if download is set to True.\n",
        "        train (bool, optional): If True, creates dataset from training set, otherwise\n",
        "            creates from test set.\n",
        "        transform (callable, optional): A function/transform that takes in an PIL image\n",
        "            and returns a transformed version. E.g, ``transforms.RandomCrop``\n",
        "        target_transform (callable, optional): A function/transform that takes in the\n",
        "            target and transforms it.\n",
        "        download (bool, optional): If true, downloads the dataset from the internet and\n",
        "            puts it in root directory. If dataset is already downloaded, it is not\n",
        "            downloaded again.\n",
        "    \"\"\"\n",
        "    base_folder = 'cifar-10-batches-py'\n",
        "    url = \"https://www.cs.toronto.edu/~kriz/cifar-10-python.tar.gz\"\n",
        "    filename = \"cifar-10-python.tar.gz\"\n",
        "    tgz_md5 = 'c58f30108f718f92721af3b95e74349a'\n",
        "    train_list = [\n",
        "        ['data_batch_1', 'c99cafc152244af753f735de768cd75f'],\n",
        "        ['data_batch_2', 'd4bba439e000b95fd0a9bffe97cbabec'],\n",
        "        ['data_batch_3', '54ebc095f3ab1f0389bbae665268c751'],\n",
        "        ['data_batch_4', '634d18415352ddfa80567beed471001a'],\n",
        "        ['data_batch_5', '482c414d41f54cd18b22e5b47cb7c3cb'],\n",
        "    ]\n",
        "\n",
        "    test_list = [\n",
        "        ['test_batch', '40351d587109b95175f43aff81a1287e'],\n",
        "    ]\n",
        "    meta = {\n",
        "        'filename': 'batches.meta',\n",
        "        'key': 'label_names',\n",
        "        'md5': '5ff9c542aee3614f3951f8cda6e48888',\n",
        "    }\n",
        "\n",
        "    def __init__(self, root, train=True, transform=None, target_transform=None, download=False):\n",
        "        self.root = os.path.expanduser(root)\n",
        "        self.transform = transform\n",
        "        self.target_transform = target_transform\n",
        "        self.train = train  # training set or test set\n",
        "\n",
        "        if download:\n",
        "            self.download()\n",
        "\n",
        "        if not self._check_integrity():\n",
        "            raise RuntimeError('Dataset not found or corrupted.' +\n",
        "                               ' You can use download=True to download it')\n",
        "\n",
        "        if self.train:\n",
        "            downloaded_list = self.train_list\n",
        "        else:\n",
        "            downloaded_list = self.test_list\n",
        "\n",
        "        self.data = []\n",
        "        self.targets = []\n",
        "\n",
        "        # now load the picked numpy arrays\n",
        "        for file_name, checksum in downloaded_list:\n",
        "            file_path = os.path.join(self.root, self.base_folder, file_name)\n",
        "            with open(file_path, 'rb') as f:\n",
        "                if sys.version_info[0] == 2:\n",
        "                    entry = pickle.load(f)\n",
        "                else:\n",
        "                    entry = pickle.load(f, encoding='latin1')\n",
        "                self.data.append(entry['data'])\n",
        "                if 'labels' in entry:\n",
        "                    self.targets.extend(entry['labels'])\n",
        "                else:\n",
        "                    self.targets.extend(entry['fine_labels'])\n",
        "\n",
        "        self.data = np.vstack(self.data).reshape(-1, 3, 32, 32)\n",
        "        self.data = self.data.transpose((0, 2, 3, 1))  # convert to HWC\n",
        "\n",
        "        self._load_meta()\n",
        "\n",
        "    def _load_meta(self):\n",
        "        path = os.path.join(self.root, self.base_folder, self.meta['filename'])\n",
        "        if not check_integrity(path, self.meta['md5']):\n",
        "            raise RuntimeError('Dataset metadata file not found or corrupted.' +\n",
        "                               ' You can use download=True to download it')\n",
        "        with open(path, 'rb') as infile:\n",
        "            if sys.version_info[0] == 2:\n",
        "                data = pickle.load(infile)\n",
        "            else:\n",
        "                data = pickle.load(infile, encoding='latin1')\n",
        "            self.classes = data[self.meta['key']]\n",
        "        self.class_to_idx = {_class: i for i, _class in enumerate(self.classes)}\n",
        "\n",
        "    def __getitem__(self, index):\n",
        "        \"\"\"\n",
        "        Args:\n",
        "            index (int): Index\n",
        "        Returns:\n",
        "            tuple: (image, target) where target is index of the target class.\n",
        "        \"\"\"\n",
        "        img, target = self.data[index], self.targets[index]\n",
        "\n",
        "        # doing this so that it is consistent with all other datasets\n",
        "        # to return a PIL Image\n",
        "        img = Image.fromarray(img)\n",
        "\n",
        "        if self.transform is not None:\n",
        "            img = self.transform(img)\n",
        "\n",
        "        if self.target_transform is not None:\n",
        "            target = self.target_transform(target)\n",
        "\n",
        "        return img, target\n",
        "\n",
        "    def __len__(self):\n",
        "        return len(self.data)\n",
        "\n",
        "    def _check_integrity(self):\n",
        "        root = self.root\n",
        "        for fentry in (self.train_list + self.test_list):\n",
        "            filename, md5 = fentry[0], fentry[1]\n",
        "            fpath = os.path.join(root, self.base_folder, filename)\n",
        "            if not check_integrity(fpath, md5):\n",
        "                return False\n",
        "        return True\n",
        "\n",
        "    def download(self):\n",
        "        import tarfile\n",
        "\n",
        "        if self._check_integrity():\n",
        "            print('Files already downloaded and verified')\n",
        "            return\n",
        "\n",
        "        download_url(self.url, self.root, self.filename, self.tgz_md5)\n",
        "\n",
        "        # extract file\n",
        "        with tarfile.open(os.path.join(self.root, self.filename), \"r:gz\") as tar:\n",
        "            tar.extractall(path=self.root)\n",
        "\n",
        "    def __repr__(self):\n",
        "        fmt_str = 'Dataset ' + self.__class__.__name__ + '\\n'\n",
        "        fmt_str += '    Number of datapoints: {}\\n'.format(self.__len__())\n",
        "        tmp = 'train' if self.train is True else 'test'\n",
        "        fmt_str += '    Split: {}\\n'.format(tmp)\n",
        "        fmt_str += '    Root Location: {}\\n'.format(self.root)\n",
        "        tmp = '    Transforms (if any): '\n",
        "        fmt_str += '{0}{1}\\n'.format(tmp, self.transform.__repr__().replace('\\n', '\\n' + ' ' * len(tmp)))\n",
        "        tmp = '    Target Transforms (if any): '\n",
        "        fmt_str += '{0}{1}'.format(tmp, self.target_transform.__repr__().replace('\\n', '\\n' + ' ' * len(tmp)))\n",
        "        return fmt_str\n",
        "\n",
        "\n",
        "class CIFAR100(CIFAR10):\n",
        "    \"\"\"`CIFAR100 <https://www.cs.toronto.edu/~kriz/cifar.html>`_ Dataset.\n",
        "    This is a subclass of the `CIFAR10` Dataset.\n",
        "    \"\"\"\n",
        "    base_folder = 'cifar-100-python'\n",
        "    url = \"https://www.cs.toronto.edu/~kriz/cifar-100-python.tar.gz\"\n",
        "    filename = \"cifar-100-python.tar.gz\"\n",
        "    tgz_md5 = 'eb9058c3a382ffc7106e4002c42a8d85'\n",
        "    train_list = [\n",
        "        ['train', '16019d7e3df5f24257cddd939b257f8d'],\n",
        "    ]\n",
        "\n",
        "    test_list = [\n",
        "        ['test', 'f0ef6b0ae62326f3e7ffdfab6717acfc'],\n",
        "    ]\n",
        "    meta = {\n",
        "        'filename': 'meta',\n",
        "        'key': 'fine_label_names',\n",
        "        'md5': '7973b15100ade9c7d40fb424638fde48',\n",
        "    }"
      ],
      "execution_count": 0,
      "outputs": []
    },
    {
      "metadata": {
        "colab_type": "text",
        "id": "uJqbeSk7LyRk"
      },
      "cell_type": "markdown",
      "source": [
        "### Run test downloading"
      ]
    },
    {
      "metadata": {
        "colab_type": "code",
        "id": "FVl9FQvyLyRl",
        "colab": {}
      },
      "cell_type": "code",
      "source": [
        "# Define dataset path and batch to use\n",
        "DATASET_PATH = \"dataset\"\n",
        "TRAIN_BATCH_PATH = \"/\".join([DATASET_PATH, \"cifar-10-batches-py\", \"data_batch_1\"])\n",
        "TEST_BATCH_PATH = \"/\".join([DATASET_PATH, \"cifar-10-batches-py\", \"test_batch\"])\n"
      ],
      "execution_count": 0,
      "outputs": []
    },
    {
      "metadata": {
        "colab_type": "code",
        "id": "twjlIeo8LyRn",
        "outputId": "7116e0cf-c5ea-44cf-87b3-98b55519e3ea",
        "colab": {
          "base_uri": "https://localhost:8080/",
          "height": 50
        }
      },
      "cell_type": "code",
      "source": [
        "# Download dataset\n",
        "print(\"Download train dataset\")\n",
        "downloader_train = CIFAR10(root=DATASET_PATH, train=True, transform=None, target_transform=None, download=True)\n"
      ],
      "execution_count": 14,
      "outputs": [
        {
          "output_type": "stream",
          "text": [
            "Download train dataset\n",
            "Files already downloaded and verified\n"
          ],
          "name": "stdout"
        }
      ]
    },
    {
      "metadata": {
        "colab_type": "text",
        "id": "ZXmv8_CGLyRq"
      },
      "cell_type": "markdown",
      "source": [
        "### Unpack the dataset"
      ]
    },
    {
      "metadata": {
        "colab_type": "code",
        "id": "9uBc3Zi4LyRr",
        "colab": {}
      },
      "cell_type": "code",
      "source": [
        "def unpickle(file):\n",
        "    \"\"\" Unpack data from file into dataset format\n",
        "    :param file: path to the loaded file\n",
        "    \"\"\"\n",
        "    import pickle\n",
        "    with open(file, 'rb') as fo:\n",
        "        dict = pickle.load(fo, encoding='bytes')\n",
        "    return dict\n",
        "\n",
        "train_data_dict = unpickle(TRAIN_BATCH_PATH)\n",
        "test_data_dict = unpickle(TEST_BATCH_PATH)"
      ],
      "execution_count": 0,
      "outputs": []
    },
    {
      "metadata": {
        "colab_type": "code",
        "id": "8q1Jg_9SLyRv",
        "outputId": "a7c146dd-0555-4cbe-f864-817142b5eb13",
        "colab": {
          "base_uri": "https://localhost:8080/",
          "height": 207
        }
      },
      "cell_type": "code",
      "source": [
        "def custom_dataset_process(data_dict, n_start = 0, n_end=None):\n",
        "    \"\"\" Load the CIFAR10 data as intended for this project\n",
        "    :param data_dict: dict, dictionnary generated by the unpickle function\n",
        "    :param n_start: integer, default=None, index value of the first elements to take\n",
        "    :param n_end: integer, default=None, index value of the last elements to take\n",
        "    :return x: np.array, data array with shape n*32*32*3, with n number of images, of shape 32*32 in 3 colors\"\"\"\n",
        "    \n",
        "    labels = data_dict[b\"labels\"][n_start:n_end]\n",
        "    data = data_dict[b\"data\"][n_start:n_end]\n",
        "        \n",
        "    les_im = np.array(data)\n",
        "    les_im_reshape = []\n",
        "    for id_im, im in enumerate(les_im):\n",
        "        im_reshape = np.rot90(im.reshape((32, 32, 3), order=\"F\"), k=3)\n",
        "        les_im_reshape.append(im_reshape)\n",
        "    \n",
        "    les_im_reshape = np.array(les_im_reshape)\n",
        "    return les_im_reshape, labels\n",
        "\n",
        "X_train, X_train_labels = custom_dataset_process(train_data_dict, n_start=0, n_end=100)\n",
        "X_left, X_left_labels = custom_dataset_process(train_data_dict, n_start=100, n_end=None)\n",
        "X_test, X_test_labels = custom_dataset_process(test_data_dict)\n",
        "\n",
        "def show_dataset():\n",
        "    \"\"\" Show 1 sample from each dataset to check or loading, importation and treatement\n",
        "    \"\"\"\n",
        "    to_show = [[\"X_train\", X_train], [\"X_left\", X_left], [\"X_test\", X_test]]\n",
        "    for i, X in enumerate(to_show):\n",
        "        \n",
        "        print(X[0], \"shape\", X[1].shape)\n",
        "        plt.subplot(1, len(to_show), i+1)\n",
        "        plt.axis('off')\n",
        "        plt.tight_layout()\n",
        "        plt.imshow(X[1][1])\n",
        "\n",
        "show_dataset()"
      ],
      "execution_count": 16,
      "outputs": [
        {
          "output_type": "stream",
          "text": [
            "X_train shape (100, 32, 32, 3)\n",
            "X_left shape (9900, 32, 32, 3)\n",
            "X_test shape (10000, 32, 32, 3)\n"
          ],
          "name": "stdout"
        },
        {
          "output_type": "display_data",
          "data": {
            "image/png": "[encoded data removed]",
            "text/plain": [
              "<Figure size 432x288 with 3 Axes>"
            ]
          },
          "metadata": {
            "tags": []
          }
        }
      ]
    },
    {
      "metadata": {
        "colab_type": "text",
        "id": "P8siNgFNLyRz"
      },
      "cell_type": "markdown",
      "source": [
        "This is our dataset $\\mathcal{X}_{\\text{train}}$, it will be used until the end of this project. The remaining samples correspond to $\\mathcal{X}$. The testing set $\\mathcal{X}_{\\text{test}}$ corresponds to the whole testing set of CIFAR-10."
      ]
    },
    {
      "metadata": {
        "colab_type": "text",
        "id": "PXn5rOGkLyR3"
      },
      "cell_type": "markdown",
      "source": [
        "## Testing procedure\n",
        "__Question 2:__ Explain why the evaluation of the training procedure is difficult. Propose several solutions."
      ]
    },
    {
      "metadata": {
        "colab_type": "text",
        "id": "0o251Kz8LyR4"
      },
      "cell_type": "markdown",
      "source": [
        "Evaluation of the training procedure may be difficult because of the low number of labeled data we are using for the model training. We may have quite a hard time resolving overfitting problems: we have few gold data.\n",
        "\n",
        "As seen in the class, solutions exists:\n",
        "- We can use semi-supervized learning to try to make guesses about unlabeled train data\n",
        "- Use transfer learning, and just fine-tune our model without the need of a huge great dataset\n",
        "- Weak supervision or traditional supervision are also existing solutions, but we will not use them as they involve to ask for a new labelling round, even at higher/abstract level."
      ]
    },
    {
      "metadata": {
        "colab_type": "text",
        "id": "Tp4Hh9BoLyR5"
      },
      "cell_type": "markdown",
      "source": [
        "# Raw approach: the baseline"
      ]
    },
    {
      "metadata": {
        "colab_type": "text",
        "id": "jsyOxEtxLyR6"
      },
      "cell_type": "markdown",
      "source": [
        "In this section, the goal is to train a CNN on $\\mathcal{X}_{\\text{train}}$ and compare its performances with reported number from the litterature. You will have to re-use and/or design a standard classification pipeline. You should optimize your pipeline to obtain the best performances (image size, data augmentation by flip, ...).\n",
        "\n",
        "The key ingredients for training a CNN are the batch size, as well as the learning rate schedule, i.e. how to decrease the learning rate as a function of the number of epochs. A possible schedule is to start the learning rate at 0.1 and decreasing it every 30 epochs by 10. In case of divergence, reduce the laerning rate. A potential batch size could be 10, yet this can be cross-validated.\n",
        "\n",
        "You can get some baselines accuracies in this paper: http://openaccess.thecvf.com/content_cvpr_2018/papers/Keshari_Learning_Structure_and_CVPR_2018_paper.pdf. Obviously, it is a different context, as those researchers had access to GPUs."
      ]
    },
    {
      "metadata": {
        "colab_type": "text",
        "id": "z-C45ofQLyR7"
      },
      "cell_type": "markdown",
      "source": [
        "## ResNet architectures"
      ]
    },
    {
      "metadata": {
        "colab_type": "text",
        "id": "Tv78YLvaLyR8"
      },
      "cell_type": "markdown",
      "source": [
        "__Question 3:__ Write a classification pipeline for $\\mathcal{X}_{\\text{train}}$, train from scratch and evaluate a *ResNet-18* architecture specific to CIFAR10 (details about the ImageNet model can be found here: https://arxiv.org/abs/1409.1556 ). If possible, please report the accuracy obtained on the whole dataset, as well as the reference paper/GitHub link you might have used.\n",
        "\n",
        "*Hint:* You can re-use the following code: https://github.com/kuangliu/pytorch-cifar. During a training of 10 epochs, a batch size of 10 and a learning rate of 0.01, one obtains 40% accuracy on $\\mathcal{X}_{\\text{train}}$ (~2 minutes) and 20% accuracy on $\\mathcal{X}_{\\text{test}}$ (~5 minutes)."
      ]
    },
    {
      "metadata": {
        "colab_type": "code",
        "id": "PI2nEsb9L5LL",
        "colab": {}
      },
      "cell_type": "code",
      "source": [
        "import os\n",
        "import shutil\n",
        "import time\n",
        "\n",
        "import torch\n",
        "import torch.nn as nn\n",
        "import torch.nn.parallel\n",
        "import torch.backends.cudnn as cudnn\n",
        "import torch.optim\n",
        "import torch.utils.data\n",
        "import torchvision.transforms as transforms\n",
        "import torchvision.datasets as datasets\n",
        "import torchvision.models as models\n",
        "\n",
        "\n",
        "## HANDLE TOP_N\n",
        "\n",
        "class Args:\n",
        "    def __init__(self, arch=\"resnet18\", workers=4, epochs=99, start_epoch=0, batch_size=16, lr=0.1, momentum=0.9, weight_decay=1e-4, print_freq=50, resume=\"\", evaluate=False, pretrained=False, early_stopping=False, top_n=3):\n",
        "        \"\"\" Define and store the hyperparams needed and used by the model training procedure\n",
        "        :param arch: default=\"resnet18\"\n",
        "        :param workers: default=4\n",
        "        :param epochs: default=99\n",
        "        :param start_epoch: default=0\n",
        "        :param batch_size: default=16\n",
        "        :param lr: default=0.1\n",
        "        :param momentum: default=0.9\n",
        "        :param weight_decay: default=1e-4\n",
        "        :param print_freq: default=50\n",
        "        :param resume: default=\"\"\n",
        "        :param evaluate: default=False\n",
        "        :param pretrained: default=False\n",
        "        \"\"\"\n",
        "        self.arch = arch\n",
        "        self.workers = workers\n",
        "        self.epochs = epochs\n",
        "        self.start_epoch = start_epoch\n",
        "        self.batch_size = batch_size\n",
        "        self.lr = lr\n",
        "        self.momentum = momentum\n",
        "        self.weight_decay = weight_decay\n",
        "        self.print_freq = print_freq\n",
        "        self.resume = resume\n",
        "        self.evaluate = evaluate\n",
        "        self.pretrained = pretrained\n",
        "        self.early_stopping = early_stopping\n",
        "        self.top_n = top_n\n",
        "\n",
        "\n",
        "class MyDataset(torch.utils.data.Dataset):\n",
        "    \"\"\" Build a personnal dataset provider\n",
        "    \"\"\"\n",
        "\n",
        "    def __init__(self, X_tensor, Y_tensor, transform):\n",
        "        \"\"\"\n",
        "        :param X_tensor: np.numpy or torch.tensor, X tensor of data\n",
        "        :param Y_tensor: np.numpy or torch.tensor, data label\n",
        "        :param transform: transform to apply on X tensor before item provide\n",
        "        \"\"\"\n",
        "        assert len(X_tensor) == len(Y_tensor)\n",
        "        self.X_tensor = X_tensor\n",
        "        self.Y_tensor = Y_tensor\n",
        "        self.transform = transform\n",
        "\n",
        "    def __getitem__(self, index):\n",
        "        return tuple([self.transform(self.X_tensor[index]), self.Y_tensor[index]])\n",
        "\n",
        "    def __len__(self):\n",
        "        return len(self.X_tensor)\n",
        "\n",
        "    \n",
        "class AverageMeter(object):\n",
        "        \"\"\"Computes and stores the average and current value\"\"\"\n",
        "        def __init__(self):\n",
        "            self.reset()\n",
        "\n",
        "        def reset(self):\n",
        "            self.val = 0\n",
        "            self.avg = 0\n",
        "            self.sum = 0\n",
        "            self.count = 0\n",
        "\n",
        "        def update(self, val, n=1):\n",
        "            self.val = val\n",
        "            self.sum += val * n\n",
        "            self.count += n\n",
        "            self.avg = self.sum / self.count\n",
        "\n",
        "        \n",
        "class Classifier:\n",
        "    def __init__(self, args, transf):\n",
        "        self.args = args\n",
        "        self.transf = transf\n",
        "        model_names = sorted(name for name in models.__dict__\n",
        "            if name.islower() and not name.startswith(\"__\")\n",
        "            and callable(models.__dict__[name]))\n",
        "        print(\"model_names\", model_names)\n",
        "\n",
        "        self.best_prec1 = 0\n",
        "        self.les_epoch = []\n",
        "        self.les_train_loss = []\n",
        "        self.les_val_loss = []\n",
        "        self.les_train_top_1 = []\n",
        "        self.les_train_top_n = []\n",
        "        self.les_val_top_1 = []\n",
        "        self.les_val_top_n = []\n",
        "\n",
        "    def run_training(self):\n",
        "        \n",
        "        # create model\n",
        "        if self.args.pretrained:\n",
        "            print(\"=> using pre-trained model '{}'\".format(self.args.arch))\n",
        "            model = models.__dict__[self.args.arch](pretrained=True)\n",
        "        else:\n",
        "            print(\"=> creating model '{}'\".format(self.args.arch))\n",
        "            model = models.__dict__[self.args.arch]()\n",
        "\n",
        "        if self.args.arch.startswith('alexnet') or self.args.arch.startswith('vgg'):\n",
        "            model.features = torch.nn.DataParallel(model.features)\n",
        "            model.cuda()\n",
        "        else:\n",
        "            model = torch.nn.DataParallel(model).cuda()\n",
        "\n",
        "        cudnn.benchmark = True\n",
        "\n",
        "        # Train dataset \n",
        "        train_dataset =  MyDataset(X_train, X_train_labels, transform=self.transf)\n",
        "        train_loader = torch.utils.data.DataLoader(\n",
        "            dataset=train_dataset,\n",
        "            batch_size=self.args.batch_size, shuffle=True,\n",
        "            num_workers=self.args.workers, pin_memory=True)\n",
        "\n",
        "        # Validation dataset\n",
        "        val_dataset =  MyDataset(X_test, X_test_labels, transform=self.transf)\n",
        "        val_loader = torch.utils.data.DataLoader(\n",
        "            dataset=val_dataset,\n",
        "            batch_size=self.args.batch_size, shuffle=False,\n",
        "            num_workers=self.args.workers, pin_memory=True)\n",
        "\n",
        "        # define loss function (criterion) and pptimizer\n",
        "        criterion = nn.CrossEntropyLoss().cuda()\n",
        "\n",
        "        optimizer = torch.optim.SGD(model.parameters(), self.args.lr,\n",
        "                                    momentum=self.args.momentum,\n",
        "                                    weight_decay=self.args.weight_decay)\n",
        "\n",
        "        if self.args.evaluate:\n",
        "            self.validate(val_loader, model, criterion)\n",
        "            return\n",
        "\n",
        "        for epoch in range(self.args.start_epoch, self.args.epochs):\n",
        "            self.adjust_learning_rate(optimizer, epoch)\n",
        "\n",
        "            # train for one epoch\n",
        "            self.train(train_loader, model, criterion, optimizer, epoch)\n",
        "\n",
        "            # evaluate on validation set\n",
        "            prec1 = self.validate(val_loader, model, criterion)\n",
        "\n",
        "            # remember best prec@1 and save checkpoint\n",
        "            is_best = prec1 > self.best_prec1\n",
        "            self.best_prec1 = max(prec1, self.best_prec1)\n",
        "            self.save_checkpoint({\n",
        "                'epoch': epoch + 1,\n",
        "                'arch': self.args.arch,\n",
        "                'state_dict': model.state_dict(),\n",
        "                'best_prec1': self.best_prec1,\n",
        "            }, is_best)\n",
        "            \n",
        "            if self.should_early_stop(n_check_last=5):\n",
        "                break\n",
        "\n",
        "\n",
        "    def train(self, train_loader, model, criterion, optimizer, epoch):\n",
        "        \"\"\" Well, lets train the model using provided dataset and params\n",
        "        \"\"\"\n",
        "        batch_time = AverageMeter()\n",
        "        data_time = AverageMeter()\n",
        "        losses = AverageMeter()\n",
        "        top1 = AverageMeter()\n",
        "        topn = AverageMeter()\n",
        "\n",
        "        # switch to train mode\n",
        "        model.train()\n",
        "\n",
        "        end = time.time()\n",
        "        for i, (input, target) in enumerate(train_loader):\n",
        "            # measure data loading time\n",
        "            data_time.update(time.time() - end)\n",
        "\n",
        "            target = target.cuda(non_blocking=True)\n",
        "            input_var = torch.autograd.Variable(input)\n",
        "            target_var = torch.autograd.Variable(target)\n",
        "\n",
        "            # compute output\n",
        "            output = model(input_var)\n",
        "            loss = criterion(output, target_var)\n",
        "\n",
        "            # measure accuracy and record loss\n",
        "            prec1, precn = self.accuracy(output.data, target, topk=(1, 5))\n",
        "            losses.update(loss.item(), input.size(0))\n",
        "            top1.update(prec1.item(), input.size(0))\n",
        "            topn.update(precn.item(), input.size(0))\n",
        "\n",
        "            # compute gradient and do SGD step\n",
        "            optimizer.zero_grad()\n",
        "            loss.backward()\n",
        "            optimizer.step()\n",
        "\n",
        "            # measure elapsed time\n",
        "            batch_time.update(time.time() - end)\n",
        "            end = time.time()\n",
        "\n",
        "            if (i != 0 and i % self.args.print_freq == 0) or i == len(train_loader) - 1:\n",
        "                print('Epoch: [{0}][{1}/{2}]\\t'\n",
        "                      'Time {batch_time.val:.3f} ({batch_time.avg:.3f})\\t'\n",
        "                      'Data {data_time.val:.3f} ({data_time.avg:.3f})\\t'\n",
        "                      'Loss {loss.val:.4f} ({loss.avg:.4f})\\t'\n",
        "                      'Prec@1 {top1.val:.3f} ({top1.avg:.3f})\\t'\n",
        "                      'Prec@5 {topn.val:.3f} ({topn.avg:.3f})'.format(\n",
        "                       epoch, i, len(train_loader), batch_time=batch_time,\n",
        "                       data_time=data_time, loss=losses, top1=top1, topn=topn))\n",
        "\n",
        "        self.les_epoch.append(epoch)\n",
        "        self.les_train_loss.append(losses.avg)\n",
        "        self.les_train_top_1.append(top1.avg)\n",
        "        self.les_train_top_n.append(topn.avg)\n",
        "\n",
        "        \n",
        "    def should_early_stop(self, n_check_last=5):\n",
        "        \"\"\"Look at last validation accuracy values. \n",
        "        If last n_check_last values are decreasing, return True as we should early stop.\n",
        "        :param n_check_last: int, default=5, number of last values to check to consider ealy stopping\n",
        "        \n",
        "        :return should_stop: boolean, True if we should stop training, False else.\n",
        "        \"\"\"\n",
        "        \n",
        "        if len(self.les_val_top_1) < n_check_last:\n",
        "            return False\n",
        "        \n",
        "        les_last_val = self.les_val_top_1[-n_check_last:]\n",
        "        \n",
        "        return les_last_val == sorted(les_last_val, reverse=True)\n",
        "\n",
        "    def validate(self, val_loader, model, criterion):\n",
        "        \"\"\" Validate model using validation dataset\n",
        "        \"\"\"\n",
        "        batch_time = AverageMeter()\n",
        "        losses = AverageMeter()\n",
        "        top1 = AverageMeter()\n",
        "        topn = AverageMeter()\n",
        "\n",
        "        # switch to evaluate mode\n",
        "        model.eval()\n",
        "\n",
        "        end = time.time()\n",
        "        for i, (input, target) in enumerate(val_loader):\n",
        "            target = target.cuda(non_blocking=True)\n",
        "            input_var = torch.autograd.Variable(input, volatile=True)\n",
        "            target_var = torch.autograd.Variable(target, volatile=True)\n",
        "\n",
        "            # compute output\n",
        "            output = model(input_var)\n",
        "            loss = criterion(output, target_var)\n",
        "\n",
        "            # measure accuracy and record loss\n",
        "            prec1, precn = self.accuracy(output.data, target, topk=(1, 5))\n",
        "            losses.update(loss.item(), input.size(0))\n",
        "            top1.update(prec1.item(), input.size(0))\n",
        "            topn.update(precn.item(), input.size(0))\n",
        "\n",
        "            # measure elapsed time\n",
        "            batch_time.update(time.time() - end)\n",
        "            end = time.time()\n",
        "\n",
        "            if (i != 0 and i % self.args.print_freq == 0) or i == len(val_loader) -1:\n",
        "                print('Test: [{0}/{1}]\\t'\n",
        "                      'Time {batch_time.val:.3f} ({batch_time.avg:.3f})\\t'\n",
        "                      'Loss {loss.val:.4f} ({loss.avg:.4f})\\t'\n",
        "                      'Prec@1 {top1.val:.3f} ({top1.avg:.3f})\\t'\n",
        "                      'Prec@5 {topn.val:.3f} ({topn.avg:.3f})'.format(\n",
        "                       i, len(val_loader), batch_time=batch_time, loss=losses,\n",
        "                       top1=top1, topn=topn))\n",
        "\n",
        "        self.les_val_loss.append(losses.avg)\n",
        "        self.les_val_top_1.append(top1.avg)\n",
        "        self.les_val_top_n.append(topn.avg)\n",
        "\n",
        "        return top1.avg\n",
        "\n",
        "\n",
        "    def save_checkpoint(self, state, is_best, filename='checkpoint.pth.tar'):\n",
        "        torch.save(state, filename)\n",
        "        if is_best:\n",
        "            shutil.copyfile(filename, 'model_best.pth.tar')\n",
        "\n",
        "\n",
        "    def adjust_learning_rate(self, optimizer, epoch):\n",
        "        \"\"\"Sets the learning rate to the initial LR decayed by 10 every 30 epochs\"\"\"\n",
        "        lr = self.args.lr * (0.1 ** (epoch // 30))\n",
        "        for param_group in optimizer.param_groups:\n",
        "            param_group['lr'] = lr\n",
        "\n",
        "\n",
        "    def accuracy(self, output, target, topk=(1,)):\n",
        "        \"\"\"Computes the precision@k for the specified values of k\"\"\"\n",
        "        maxk = max(topk)\n",
        "        batch_size = target.size(0)\n",
        "\n",
        "        _, pred = output.topk(maxk, 1, True, True)\n",
        "        pred = pred.t()\n",
        "        correct = pred.eq(target.view(1, -1).expand_as(pred))\n",
        "\n",
        "        res = []\n",
        "        for k in topk:\n",
        "            correct_k = correct[:k].view(-1).float().sum(0)\n",
        "            res.append(correct_k.mul_(100.0 / batch_size))\n",
        "        return res\n",
        "    \n",
        "    \n",
        "    def plot_results(self):\n",
        "        \"\"\" Plot results of training\n",
        "        \"\"\"\n",
        "    \n",
        "        les_plot = [\n",
        "            [\"train_loss\", self.les_train_loss], \n",
        "            [\"val_loss\", self.les_val_loss], \n",
        "            [\"accuracy train_top_1\", self.les_train_top_1], \n",
        "            [\"accuracy val_top_1\", self.les_val_top_1], \n",
        "            [\"accuracy train_top_\" + str(self.args.n_top), self.les_train_top_n], \n",
        "            [\"accuracy val_top_\" + str(self.args.n_top), self.les_val_top_n]\n",
        "        ]\n",
        "\n",
        "        plt.figure(num=None, figsize=(15, 10), dpi=80, facecolor='w', edgecolor='k')\n",
        "        plt.subplots_adjust(wspace=0.2, hspace=0.5)\n",
        "\n",
        "        for id_plot in range(0, len(les_plot), 2):\n",
        "            # train plot\n",
        "            plt.subplot(len(les_plot)//2, 2, id_plot+1)\n",
        "            plt.title(les_plot[id_plot][0])\n",
        "            plt.plot(self.les_epoch, les_plot[id_plot][1])\n",
        "\n",
        "            if \"loss\" in les_plot[id_plot][0]:\n",
        "                axes = plt.gca()\n",
        "                axes.set_ylim([0,10])\n",
        "\n",
        "            # validation plot\n",
        "            plt.subplot(len(les_plot)//2, 2, id_plot+2)\n",
        "            plt.title(les_plot[id_plot+1][0])\n",
        "            plt.plot(self.les_epoch, les_plot[id_plot+1][1])\n",
        "\n",
        "            if \"loss\" in les_plot[id_plot][0]:\n",
        "                axes = plt.gca()\n",
        "                axes.set_ylim([0,10])\n",
        "\n",
        "        plt.show()\n",
        "    "
      ],
      "execution_count": 0,
      "outputs": []
    },
    {
      "metadata": {
        "colab_type": "code",
        "id": "NKO5M2s8XLAx",
        "outputId": "80495a6c-5c60-4b0a-d801-b4a29bafda2a",
        "colab": {
          "base_uri": "https://localhost:8080/",
          "height": 4117
        }
      },
      "cell_type": "code",
      "source": [
        "# Hyperparameters\n",
        "args = Args(\n",
        "        arch=\"resnet18\", \n",
        "        workers=4, \n",
        "        epochs=100, \n",
        "        start_epoch=0, \n",
        "        batch_size=32, \n",
        "        lr=0.001, \n",
        "        momentum=0.9, \n",
        "        weight_decay=1e-4, \n",
        "        print_freq=1000, \n",
        "        resume=\"\", \n",
        "        evaluate=False, \n",
        "        pretrained=False,\n",
        "        early_stopping=True\n",
        ")\n",
        "\n",
        "# Transformation definition\n",
        "normalize = transforms.Normalize(mean=[0.485, 0.456, 0.406], std=[0.229, 0.224, 0.225])\n",
        "transf = transforms.Compose(\n",
        "    [transforms.ToPILImage(),\n",
        "     transforms.CenterCrop(224),\n",
        "     transforms.ToTensor(),\n",
        "     normalize\n",
        "    ])\n",
        "\n",
        "\n",
        "classifier1 = Classifier(args, transf)\n",
        "classifier1.run_training()\n",
        "classifier1.plot_results()"
      ],
      "execution_count": 32,
      "outputs": [
        {
          "output_type": "stream",
          "text": [
            "model_names ['alexnet', 'densenet121', 'densenet161', 'densenet169', 'densenet201', 'inception_v3', 'resnet101', 'resnet152', 'resnet18', 'resnet34', 'resnet50', 'squeezenet1_0', 'squeezenet1_1', 'vgg11', 'vgg11_bn', 'vgg13', 'vgg13_bn', 'vgg16', 'vgg16_bn', 'vgg19', 'vgg19_bn']\n",
            "=> creating model 'resnet18'\n",
            "Epoch: [0][0/4]\tTime 0.435 (0.435)\tData 0.321 (0.321)\tLoss 6.9814 (6.9814)\tPrec@1 0.000 (0.000)\tPrec@5 0.000 (0.000)\n"
          ],
          "name": "stdout"
        },
        {
          "output_type": "stream",
          "text": [
            "/usr/local/lib/python3.6/dist-packages/ipykernel_launcher.py:255: UserWarning: volatile was removed and now has no effect. Use `with torch.no_grad():` instead.\n",
            "/usr/local/lib/python3.6/dist-packages/ipykernel_launcher.py:256: UserWarning: volatile was removed and now has no effect. Use `with torch.no_grad():` instead.\n"
          ],
          "name": "stderr"
        },
        {
          "output_type": "stream",
          "text": [
            "Test: [0/313]\tTime 0.380 (0.380)\tLoss 6.8901 (6.8901)\tPrec@1 0.000 (0.000)\tPrec@5 0.000 (0.000)\n",
            "Epoch: [1][0/4]\tTime 0.479 (0.479)\tData 0.394 (0.394)\tLoss 6.6939 (6.6939)\tPrec@1 0.000 (0.000)\tPrec@5 9.375 (9.375)\n",
            "Test: [0/313]\tTime 0.611 (0.611)\tLoss 6.7557 (6.7557)\tPrec@1 3.125 (3.125)\tPrec@5 15.625 (15.625)\n",
            "Epoch: [2][0/4]\tTime 0.483 (0.483)\tData 0.362 (0.362)\tLoss 6.1213 (6.1213)\tPrec@1 9.375 (9.375)\tPrec@5 18.750 (18.750)\n",
            "Test: [0/313]\tTime 0.475 (0.475)\tLoss 6.5009 (6.5009)\tPrec@1 3.125 (3.125)\tPrec@5 28.125 (28.125)\n",
            "Epoch: [3][0/4]\tTime 0.522 (0.522)\tData 0.436 (0.436)\tLoss 5.2464 (5.2464)\tPrec@1 12.500 (12.500)\tPrec@5 68.750 (68.750)\n",
            "Test: [0/313]\tTime 0.448 (0.448)\tLoss 6.1261 (6.1261)\tPrec@1 3.125 (3.125)\tPrec@5 37.500 (37.500)\n",
            "Epoch: [4][0/4]\tTime 0.507 (0.507)\tData 0.421 (0.421)\tLoss 4.2367 (4.2367)\tPrec@1 21.875 (21.875)\tPrec@5 71.875 (71.875)\n",
            "Test: [0/313]\tTime 0.730 (0.730)\tLoss 5.7039 (5.7039)\tPrec@1 3.125 (3.125)\tPrec@5 37.500 (37.500)\n",
            "Epoch: [5][0/4]\tTime 0.473 (0.473)\tData 0.378 (0.378)\tLoss 3.7904 (3.7904)\tPrec@1 28.125 (28.125)\tPrec@5 59.375 (59.375)\n",
            "Test: [0/313]\tTime 0.658 (0.658)\tLoss 5.2310 (5.2310)\tPrec@1 3.125 (3.125)\tPrec@5 37.500 (37.500)\n",
            "Epoch: [6][0/4]\tTime 0.491 (0.491)\tData 0.406 (0.406)\tLoss 3.2431 (3.2431)\tPrec@1 25.000 (25.000)\tPrec@5 71.875 (71.875)\n",
            "Test: [0/313]\tTime 0.546 (0.546)\tLoss 4.7332 (4.7332)\tPrec@1 6.250 (6.250)\tPrec@5 40.625 (40.625)\n",
            "Epoch: [7][0/4]\tTime 0.512 (0.512)\tData 0.428 (0.428)\tLoss 2.5079 (2.5079)\tPrec@1 46.875 (46.875)\tPrec@5 75.000 (75.000)\n",
            "Test: [0/313]\tTime 0.473 (0.473)\tLoss 4.1966 (4.1966)\tPrec@1 6.250 (6.250)\tPrec@5 34.375 (34.375)\n",
            "Epoch: [8][0/4]\tTime 0.471 (0.471)\tData 0.382 (0.382)\tLoss 2.2906 (2.2906)\tPrec@1 21.875 (21.875)\tPrec@5 78.125 (78.125)\n",
            "Test: [0/313]\tTime 0.624 (0.624)\tLoss 3.7901 (3.7901)\tPrec@1 6.250 (6.250)\tPrec@5 34.375 (34.375)\n",
            "Epoch: [9][0/4]\tTime 0.464 (0.464)\tData 0.365 (0.365)\tLoss 2.3667 (2.3667)\tPrec@1 25.000 (25.000)\tPrec@5 75.000 (75.000)\n",
            "Test: [0/313]\tTime 0.444 (0.444)\tLoss 3.4976 (3.4976)\tPrec@1 6.250 (6.250)\tPrec@5 31.250 (31.250)\n",
            "Epoch: [10][0/4]\tTime 0.453 (0.453)\tData 0.347 (0.347)\tLoss 2.5095 (2.5095)\tPrec@1 21.875 (21.875)\tPrec@5 68.750 (68.750)\n",
            "Test: [0/313]\tTime 0.720 (0.720)\tLoss 3.2279 (3.2279)\tPrec@1 6.250 (6.250)\tPrec@5 31.250 (31.250)\n",
            "Epoch: [11][0/4]\tTime 0.507 (0.507)\tData 0.423 (0.423)\tLoss 2.5046 (2.5046)\tPrec@1 21.875 (21.875)\tPrec@5 68.750 (68.750)\n",
            "Test: [0/313]\tTime 0.657 (0.657)\tLoss 3.0072 (3.0072)\tPrec@1 9.375 (9.375)\tPrec@5 28.125 (28.125)\n",
            "Epoch: [12][0/4]\tTime 0.517 (0.517)\tData 0.431 (0.431)\tLoss 2.0879 (2.0879)\tPrec@1 31.250 (31.250)\tPrec@5 84.375 (84.375)\n",
            "Test: [0/313]\tTime 0.495 (0.495)\tLoss 2.8973 (2.8973)\tPrec@1 6.250 (6.250)\tPrec@5 43.750 (43.750)\n",
            "Epoch: [13][0/4]\tTime 0.471 (0.471)\tData 0.379 (0.379)\tLoss 2.2883 (2.2883)\tPrec@1 12.500 (12.500)\tPrec@5 75.000 (75.000)\n",
            "Test: [0/313]\tTime 0.717 (0.717)\tLoss 2.8032 (2.8032)\tPrec@1 6.250 (6.250)\tPrec@5 46.875 (46.875)\n",
            "Epoch: [14][0/4]\tTime 0.507 (0.507)\tData 0.422 (0.422)\tLoss 2.0067 (2.0067)\tPrec@1 50.000 (50.000)\tPrec@5 84.375 (84.375)\n",
            "Test: [0/313]\tTime 0.709 (0.709)\tLoss 2.7809 (2.7809)\tPrec@1 6.250 (6.250)\tPrec@5 46.875 (46.875)\n",
            "Epoch: [15][0/4]\tTime 0.538 (0.538)\tData 0.453 (0.453)\tLoss 1.8964 (1.8964)\tPrec@1 53.125 (53.125)\tPrec@5 84.375 (84.375)\n",
            "Test: [0/313]\tTime 0.709 (0.709)\tLoss 2.6983 (2.6983)\tPrec@1 9.375 (9.375)\tPrec@5 50.000 (50.000)\n",
            "Epoch: [16][0/4]\tTime 0.519 (0.519)\tData 0.434 (0.434)\tLoss 1.7794 (1.7794)\tPrec@1 75.000 (75.000)\tPrec@5 87.500 (87.500)\n",
            "Test: [0/313]\tTime 0.759 (0.759)\tLoss 2.5908 (2.5908)\tPrec@1 21.875 (21.875)\tPrec@5 43.750 (43.750)\n",
            "Epoch: [17][0/4]\tTime 0.517 (0.517)\tData 0.428 (0.428)\tLoss 1.8550 (1.8550)\tPrec@1 50.000 (50.000)\tPrec@5 87.500 (87.500)\n",
            "Test: [0/313]\tTime 0.698 (0.698)\tLoss 2.5282 (2.5282)\tPrec@1 12.500 (12.500)\tPrec@5 50.000 (50.000)\n",
            "Epoch: [18][0/4]\tTime 0.456 (0.456)\tData 0.356 (0.356)\tLoss 2.0235 (2.0235)\tPrec@1 21.875 (21.875)\tPrec@5 84.375 (84.375)\n",
            "Test: [0/313]\tTime 0.483 (0.483)\tLoss 2.6242 (2.6242)\tPrec@1 12.500 (12.500)\tPrec@5 43.750 (43.750)\n",
            "Epoch: [19][0/4]\tTime 0.459 (0.459)\tData 0.358 (0.358)\tLoss 1.7653 (1.7653)\tPrec@1 71.875 (71.875)\tPrec@5 87.500 (87.500)\n",
            "Test: [0/313]\tTime 0.640 (0.640)\tLoss 2.5587 (2.5587)\tPrec@1 6.250 (6.250)\tPrec@5 43.750 (43.750)\n",
            "Epoch: [20][0/4]\tTime 0.517 (0.517)\tData 0.432 (0.432)\tLoss 1.6829 (1.6829)\tPrec@1 59.375 (59.375)\tPrec@5 93.750 (93.750)\n",
            "Test: [0/313]\tTime 0.708 (0.708)\tLoss 2.5012 (2.5012)\tPrec@1 6.250 (6.250)\tPrec@5 46.875 (46.875)\n",
            "Epoch: [21][0/4]\tTime 0.462 (0.462)\tData 0.358 (0.358)\tLoss 1.6157 (1.6157)\tPrec@1 56.250 (56.250)\tPrec@5 93.750 (93.750)\n",
            "Test: [0/313]\tTime 0.450 (0.450)\tLoss 2.3874 (2.3874)\tPrec@1 3.125 (3.125)\tPrec@5 50.000 (50.000)\n",
            "Epoch: [22][0/4]\tTime 0.500 (0.500)\tData 0.415 (0.415)\tLoss 1.7607 (1.7607)\tPrec@1 43.750 (43.750)\tPrec@5 100.000 (100.000)\n",
            "Test: [0/313]\tTime 0.688 (0.688)\tLoss 2.3803 (2.3803)\tPrec@1 6.250 (6.250)\tPrec@5 53.125 (53.125)\n",
            "Epoch: [23][0/4]\tTime 0.450 (0.450)\tData 0.350 (0.350)\tLoss 1.7082 (1.7082)\tPrec@1 62.500 (62.500)\tPrec@5 96.875 (96.875)\n",
            "Test: [0/313]\tTime 0.704 (0.704)\tLoss 2.3742 (2.3742)\tPrec@1 9.375 (9.375)\tPrec@5 59.375 (59.375)\n",
            "Epoch: [24][0/4]\tTime 0.527 (0.527)\tData 0.443 (0.443)\tLoss 1.6878 (1.6878)\tPrec@1 53.125 (53.125)\tPrec@5 90.625 (90.625)\n",
            "Test: [0/313]\tTime 0.686 (0.686)\tLoss 2.4277 (2.4277)\tPrec@1 9.375 (9.375)\tPrec@5 56.250 (56.250)\n",
            "Epoch: [25][0/4]\tTime 0.495 (0.495)\tData 0.396 (0.396)\tLoss 1.5609 (1.5609)\tPrec@1 53.125 (53.125)\tPrec@5 90.625 (90.625)\n",
            "Test: [0/313]\tTime 0.437 (0.437)\tLoss 2.5286 (2.5286)\tPrec@1 12.500 (12.500)\tPrec@5 46.875 (46.875)\n",
            "Epoch: [26][0/4]\tTime 0.541 (0.541)\tData 0.450 (0.450)\tLoss 1.5964 (1.5964)\tPrec@1 59.375 (59.375)\tPrec@5 84.375 (84.375)\n",
            "Test: [0/313]\tTime 0.630 (0.630)\tLoss 2.4499 (2.4499)\tPrec@1 9.375 (9.375)\tPrec@5 46.875 (46.875)\n",
            "Epoch: [27][0/4]\tTime 0.486 (0.486)\tData 0.400 (0.400)\tLoss 1.6159 (1.6159)\tPrec@1 68.750 (68.750)\tPrec@5 90.625 (90.625)\n",
            "Test: [0/313]\tTime 0.651 (0.651)\tLoss 2.4907 (2.4907)\tPrec@1 6.250 (6.250)\tPrec@5 50.000 (50.000)\n",
            "Epoch: [28][0/4]\tTime 0.462 (0.462)\tData 0.363 (0.363)\tLoss 1.4817 (1.4817)\tPrec@1 75.000 (75.000)\tPrec@5 90.625 (90.625)\n",
            "Test: [0/313]\tTime 0.445 (0.445)\tLoss 2.4944 (2.4944)\tPrec@1 9.375 (9.375)\tPrec@5 43.750 (43.750)\n",
            "Epoch: [29][0/4]\tTime 0.452 (0.452)\tData 0.353 (0.353)\tLoss 1.3460 (1.3460)\tPrec@1 75.000 (75.000)\tPrec@5 96.875 (96.875)\n",
            "Test: [0/313]\tTime 0.733 (0.733)\tLoss 2.5276 (2.5276)\tPrec@1 12.500 (12.500)\tPrec@5 46.875 (46.875)\n",
            "Epoch: [30][0/4]\tTime 0.502 (0.502)\tData 0.416 (0.416)\tLoss 1.4447 (1.4447)\tPrec@1 59.375 (59.375)\tPrec@5 93.750 (93.750)\n",
            "Test: [0/313]\tTime 0.637 (0.637)\tLoss 2.5019 (2.5019)\tPrec@1 18.750 (18.750)\tPrec@5 56.250 (56.250)\n",
            "Epoch: [31][0/4]\tTime 0.551 (0.551)\tData 0.465 (0.465)\tLoss 1.2351 (1.2351)\tPrec@1 81.250 (81.250)\tPrec@5 100.000 (100.000)\n",
            "Test: [0/313]\tTime 0.504 (0.504)\tLoss 2.5026 (2.5026)\tPrec@1 12.500 (12.500)\tPrec@5 56.250 (56.250)\n",
            "Epoch: [32][0/4]\tTime 0.553 (0.553)\tData 0.467 (0.467)\tLoss 1.3115 (1.3115)\tPrec@1 78.125 (78.125)\tPrec@5 96.875 (96.875)\n",
            "Test: [0/313]\tTime 0.603 (0.603)\tLoss 2.4863 (2.4863)\tPrec@1 9.375 (9.375)\tPrec@5 50.000 (50.000)\n",
            "Epoch: [33][0/4]\tTime 0.473 (0.473)\tData 0.376 (0.376)\tLoss 1.3297 (1.3297)\tPrec@1 75.000 (75.000)\tPrec@5 100.000 (100.000)\n",
            "Test: [0/313]\tTime 0.766 (0.766)\tLoss 2.4345 (2.4345)\tPrec@1 9.375 (9.375)\tPrec@5 53.125 (53.125)\n",
            "Epoch: [34][0/4]\tTime 0.480 (0.480)\tData 0.395 (0.395)\tLoss 1.1744 (1.1744)\tPrec@1 84.375 (84.375)\tPrec@5 100.000 (100.000)\n",
            "Test: [0/313]\tTime 0.626 (0.626)\tLoss 2.4274 (2.4274)\tPrec@1 9.375 (9.375)\tPrec@5 50.000 (50.000)\n",
            "Epoch: [35][0/4]\tTime 0.499 (0.499)\tData 0.414 (0.414)\tLoss 1.2191 (1.2191)\tPrec@1 87.500 (87.500)\tPrec@5 100.000 (100.000)\n",
            "Test: [0/313]\tTime 0.466 (0.466)\tLoss 2.4132 (2.4132)\tPrec@1 9.375 (9.375)\tPrec@5 59.375 (59.375)\n",
            "Epoch: [36][0/4]\tTime 0.499 (0.499)\tData 0.414 (0.414)\tLoss 1.3119 (1.3119)\tPrec@1 75.000 (75.000)\tPrec@5 100.000 (100.000)\n",
            "Test: [0/313]\tTime 0.532 (0.532)\tLoss 2.4241 (2.4241)\tPrec@1 6.250 (6.250)\tPrec@5 53.125 (53.125)\n",
            "Epoch: [37][0/4]\tTime 0.487 (0.487)\tData 0.400 (0.400)\tLoss 1.1640 (1.1640)\tPrec@1 84.375 (84.375)\tPrec@5 96.875 (96.875)\n",
            "Test: [0/313]\tTime 0.594 (0.594)\tLoss 2.4245 (2.4245)\tPrec@1 6.250 (6.250)\tPrec@5 56.250 (56.250)\n",
            "Epoch: [38][0/4]\tTime 0.503 (0.503)\tData 0.418 (0.418)\tLoss 1.1189 (1.1189)\tPrec@1 90.625 (90.625)\tPrec@5 100.000 (100.000)\n",
            "Test: [0/313]\tTime 0.528 (0.528)\tLoss 2.3986 (2.3986)\tPrec@1 6.250 (6.250)\tPrec@5 53.125 (53.125)\n",
            "Epoch: [39][0/4]\tTime 0.497 (0.497)\tData 0.410 (0.410)\tLoss 1.1382 (1.1382)\tPrec@1 87.500 (87.500)\tPrec@5 100.000 (100.000)\n",
            "Test: [0/313]\tTime 0.603 (0.603)\tLoss 2.4071 (2.4071)\tPrec@1 6.250 (6.250)\tPrec@5 50.000 (50.000)\n",
            "Epoch: [40][0/4]\tTime 0.493 (0.493)\tData 0.406 (0.406)\tLoss 1.3130 (1.3130)\tPrec@1 78.125 (78.125)\tPrec@5 93.750 (93.750)\n",
            "Test: [0/313]\tTime 0.775 (0.775)\tLoss 2.3992 (2.3992)\tPrec@1 6.250 (6.250)\tPrec@5 53.125 (53.125)\n",
            "Epoch: [41][0/4]\tTime 0.505 (0.505)\tData 0.420 (0.420)\tLoss 1.1197 (1.1197)\tPrec@1 90.625 (90.625)\tPrec@5 100.000 (100.000)\n",
            "Test: [0/313]\tTime 0.505 (0.505)\tLoss 2.3799 (2.3799)\tPrec@1 9.375 (9.375)\tPrec@5 59.375 (59.375)\n",
            "Epoch: [42][0/4]\tTime 0.494 (0.494)\tData 0.402 (0.402)\tLoss 1.0601 (1.0601)\tPrec@1 90.625 (90.625)\tPrec@5 100.000 (100.000)\n",
            "Test: [0/313]\tTime 0.429 (0.429)\tLoss 2.3960 (2.3960)\tPrec@1 9.375 (9.375)\tPrec@5 56.250 (56.250)\n",
            "Epoch: [43][0/4]\tTime 0.484 (0.484)\tData 0.371 (0.371)\tLoss 1.1834 (1.1834)\tPrec@1 84.375 (84.375)\tPrec@5 93.750 (93.750)\n",
            "Test: [0/313]\tTime 0.572 (0.572)\tLoss 2.4018 (2.4018)\tPrec@1 9.375 (9.375)\tPrec@5 56.250 (56.250)\n",
            "Epoch: [44][0/4]\tTime 0.491 (0.491)\tData 0.407 (0.407)\tLoss 1.1229 (1.1229)\tPrec@1 84.375 (84.375)\tPrec@5 96.875 (96.875)\n",
            "Test: [0/313]\tTime 0.600 (0.600)\tLoss 2.3868 (2.3868)\tPrec@1 12.500 (12.500)\tPrec@5 59.375 (59.375)\n",
            "Epoch: [45][0/4]\tTime 0.525 (0.525)\tData 0.432 (0.432)\tLoss 1.1856 (1.1856)\tPrec@1 87.500 (87.500)\tPrec@5 96.875 (96.875)\n",
            "Test: [0/313]\tTime 0.735 (0.735)\tLoss 2.3833 (2.3833)\tPrec@1 15.625 (15.625)\tPrec@5 56.250 (56.250)\n",
            "Epoch: [46][0/4]\tTime 0.477 (0.477)\tData 0.388 (0.388)\tLoss 1.2087 (1.2087)\tPrec@1 81.250 (81.250)\tPrec@5 93.750 (93.750)\n",
            "Test: [0/313]\tTime 0.717 (0.717)\tLoss 2.3617 (2.3617)\tPrec@1 15.625 (15.625)\tPrec@5 65.625 (65.625)\n",
            "Epoch: [47][0/4]\tTime 0.532 (0.532)\tData 0.446 (0.446)\tLoss 1.1251 (1.1251)\tPrec@1 90.625 (90.625)\tPrec@5 96.875 (96.875)\n",
            "Test: [0/313]\tTime 0.688 (0.688)\tLoss 2.3883 (2.3883)\tPrec@1 15.625 (15.625)\tPrec@5 62.500 (62.500)\n",
            "Epoch: [48][0/4]\tTime 0.522 (0.522)\tData 0.437 (0.437)\tLoss 1.1226 (1.1226)\tPrec@1 87.500 (87.500)\tPrec@5 96.875 (96.875)\n",
            "Test: [0/313]\tTime 0.700 (0.700)\tLoss 2.3993 (2.3993)\tPrec@1 15.625 (15.625)\tPrec@5 59.375 (59.375)\n",
            "Epoch: [49][0/4]\tTime 0.520 (0.520)\tData 0.434 (0.434)\tLoss 1.1300 (1.1300)\tPrec@1 84.375 (84.375)\tPrec@5 100.000 (100.000)\n",
            "Test: [0/313]\tTime 0.448 (0.448)\tLoss 2.3557 (2.3557)\tPrec@1 15.625 (15.625)\tPrec@5 59.375 (59.375)\n",
            "Epoch: [50][0/4]\tTime 0.470 (0.470)\tData 0.383 (0.383)\tLoss 1.2458 (1.2458)\tPrec@1 81.250 (81.250)\tPrec@5 96.875 (96.875)\n",
            "Test: [0/313]\tTime 0.529 (0.529)\tLoss 2.3478 (2.3478)\tPrec@1 15.625 (15.625)\tPrec@5 62.500 (62.500)\n",
            "Epoch: [51][0/4]\tTime 0.456 (0.456)\tData 0.356 (0.356)\tLoss 1.2112 (1.2112)\tPrec@1 81.250 (81.250)\tPrec@5 93.750 (93.750)\n",
            "Test: [0/313]\tTime 0.610 (0.610)\tLoss 2.3484 (2.3484)\tPrec@1 15.625 (15.625)\tPrec@5 65.625 (65.625)\n",
            "Epoch: [52][0/4]\tTime 0.515 (0.515)\tData 0.429 (0.429)\tLoss 1.2116 (1.2116)\tPrec@1 78.125 (78.125)\tPrec@5 96.875 (96.875)\n",
            "Test: [0/313]\tTime 0.665 (0.665)\tLoss 2.3406 (2.3406)\tPrec@1 15.625 (15.625)\tPrec@5 59.375 (59.375)\n",
            "Epoch: [53][0/4]\tTime 0.495 (0.495)\tData 0.410 (0.410)\tLoss 1.0810 (1.0810)\tPrec@1 93.750 (93.750)\tPrec@5 100.000 (100.000)\n",
            "Test: [0/313]\tTime 0.466 (0.466)\tLoss 2.3302 (2.3302)\tPrec@1 12.500 (12.500)\tPrec@5 62.500 (62.500)\n",
            "Epoch: [54][0/4]\tTime 0.481 (0.481)\tData 0.375 (0.375)\tLoss 1.1126 (1.1126)\tPrec@1 93.750 (93.750)\tPrec@5 100.000 (100.000)\n",
            "Test: [0/313]\tTime 0.573 (0.573)\tLoss 2.3225 (2.3225)\tPrec@1 12.500 (12.500)\tPrec@5 59.375 (59.375)\n",
            "Epoch: [55][0/4]\tTime 0.510 (0.510)\tData 0.424 (0.424)\tLoss 1.0343 (1.0343)\tPrec@1 93.750 (93.750)\tPrec@5 100.000 (100.000)\n",
            "Test: [0/313]\tTime 0.636 (0.636)\tLoss 2.3296 (2.3296)\tPrec@1 15.625 (15.625)\tPrec@5 62.500 (62.500)\n",
            "Epoch: [56][0/4]\tTime 0.518 (0.518)\tData 0.434 (0.434)\tLoss 1.0511 (1.0511)\tPrec@1 96.875 (96.875)\tPrec@5 100.000 (100.000)\n",
            "Test: [0/313]\tTime 0.675 (0.675)\tLoss 2.3057 (2.3057)\tPrec@1 15.625 (15.625)\tPrec@5 62.500 (62.500)\n",
            "Epoch: [57][0/4]\tTime 0.490 (0.490)\tData 0.389 (0.389)\tLoss 0.9565 (0.9565)\tPrec@1 93.750 (93.750)\tPrec@5 100.000 (100.000)\n",
            "Test: [0/313]\tTime 0.525 (0.525)\tLoss 2.3104 (2.3104)\tPrec@1 12.500 (12.500)\tPrec@5 59.375 (59.375)\n",
            "Epoch: [58][0/4]\tTime 0.447 (0.447)\tData 0.347 (0.347)\tLoss 1.0854 (1.0854)\tPrec@1 90.625 (90.625)\tPrec@5 100.000 (100.000)\n",
            "Test: [0/313]\tTime 0.506 (0.506)\tLoss 2.3329 (2.3329)\tPrec@1 12.500 (12.500)\tPrec@5 62.500 (62.500)\n",
            "Epoch: [59][0/4]\tTime 0.502 (0.502)\tData 0.416 (0.416)\tLoss 1.0872 (1.0872)\tPrec@1 93.750 (93.750)\tPrec@5 100.000 (100.000)\n",
            "Test: [0/313]\tTime 0.504 (0.504)\tLoss 2.3302 (2.3302)\tPrec@1 12.500 (12.500)\tPrec@5 59.375 (59.375)\n",
            "Epoch: [60][0/4]\tTime 0.456 (0.456)\tData 0.365 (0.365)\tLoss 1.0357 (1.0357)\tPrec@1 90.625 (90.625)\tPrec@5 100.000 (100.000)\n",
            "Test: [0/313]\tTime 0.693 (0.693)\tLoss 2.3261 (2.3261)\tPrec@1 12.500 (12.500)\tPrec@5 62.500 (62.500)\n",
            "Epoch: [61][0/4]\tTime 0.512 (0.512)\tData 0.427 (0.427)\tLoss 1.0709 (1.0709)\tPrec@1 90.625 (90.625)\tPrec@5 100.000 (100.000)\n",
            "Test: [0/313]\tTime 0.662 (0.662)\tLoss 2.3241 (2.3241)\tPrec@1 9.375 (9.375)\tPrec@5 59.375 (59.375)\n",
            "Epoch: [62][0/4]\tTime 0.449 (0.449)\tData 0.349 (0.349)\tLoss 1.0878 (1.0878)\tPrec@1 87.500 (87.500)\tPrec@5 100.000 (100.000)\n",
            "Test: [0/313]\tTime 0.728 (0.728)\tLoss 2.3225 (2.3225)\tPrec@1 18.750 (18.750)\tPrec@5 59.375 (59.375)\n",
            "Epoch: [63][0/4]\tTime 0.520 (0.520)\tData 0.435 (0.435)\tLoss 0.9959 (0.9959)\tPrec@1 93.750 (93.750)\tPrec@5 100.000 (100.000)\n",
            "Test: [0/313]\tTime 0.634 (0.634)\tLoss 2.3287 (2.3287)\tPrec@1 15.625 (15.625)\tPrec@5 59.375 (59.375)\n",
            "Epoch: [64][0/4]\tTime 0.499 (0.499)\tData 0.414 (0.414)\tLoss 1.0023 (1.0023)\tPrec@1 93.750 (93.750)\tPrec@5 100.000 (100.000)\n",
            "Test: [0/313]\tTime 0.499 (0.499)\tLoss 2.3192 (2.3192)\tPrec@1 18.750 (18.750)\tPrec@5 59.375 (59.375)\n",
            "Epoch: [65][0/4]\tTime 0.459 (0.459)\tData 0.365 (0.365)\tLoss 1.0636 (1.0636)\tPrec@1 87.500 (87.500)\tPrec@5 100.000 (100.000)\n",
            "Test: [0/313]\tTime 0.489 (0.489)\tLoss 2.3251 (2.3251)\tPrec@1 15.625 (15.625)\tPrec@5 59.375 (59.375)\n",
            "Epoch: [66][0/4]\tTime 0.493 (0.493)\tData 0.408 (0.408)\tLoss 1.0347 (1.0347)\tPrec@1 93.750 (93.750)\tPrec@5 96.875 (96.875)\n",
            "Test: [0/313]\tTime 0.456 (0.456)\tLoss 2.3195 (2.3195)\tPrec@1 18.750 (18.750)\tPrec@5 59.375 (59.375)\n",
            "Epoch: [67][0/4]\tTime 0.455 (0.455)\tData 0.355 (0.355)\tLoss 1.0559 (1.0559)\tPrec@1 90.625 (90.625)\tPrec@5 100.000 (100.000)\n",
            "Test: [0/313]\tTime 0.641 (0.641)\tLoss 2.3232 (2.3232)\tPrec@1 15.625 (15.625)\tPrec@5 59.375 (59.375)\n",
            "Epoch: [68][0/4]\tTime 0.480 (0.480)\tData 0.394 (0.394)\tLoss 1.0062 (1.0062)\tPrec@1 96.875 (96.875)\tPrec@5 100.000 (100.000)\n",
            "Test: [0/313]\tTime 0.742 (0.742)\tLoss 2.3195 (2.3195)\tPrec@1 15.625 (15.625)\tPrec@5 59.375 (59.375)\n",
            "Epoch: [69][0/4]\tTime 0.498 (0.498)\tData 0.412 (0.412)\tLoss 1.0663 (1.0663)\tPrec@1 93.750 (93.750)\tPrec@5 96.875 (96.875)\n",
            "Test: [0/313]\tTime 0.530 (0.530)\tLoss 2.3297 (2.3297)\tPrec@1 15.625 (15.625)\tPrec@5 59.375 (59.375)\n",
            "Epoch: [70][0/4]\tTime 0.494 (0.494)\tData 0.408 (0.408)\tLoss 1.0416 (1.0416)\tPrec@1 93.750 (93.750)\tPrec@5 100.000 (100.000)\n",
            "Test: [0/313]\tTime 0.617 (0.617)\tLoss 2.3222 (2.3222)\tPrec@1 18.750 (18.750)\tPrec@5 59.375 (59.375)\n",
            "Epoch: [71][0/4]\tTime 0.537 (0.537)\tData 0.452 (0.452)\tLoss 0.9826 (0.9826)\tPrec@1 90.625 (90.625)\tPrec@5 100.000 (100.000)\n",
            "Test: [0/313]\tTime 0.637 (0.637)\tLoss 2.3191 (2.3191)\tPrec@1 18.750 (18.750)\tPrec@5 59.375 (59.375)\n",
            "Epoch: [72][0/4]\tTime 0.521 (0.521)\tData 0.434 (0.434)\tLoss 1.1366 (1.1366)\tPrec@1 81.250 (81.250)\tPrec@5 96.875 (96.875)\n",
            "Test: [0/313]\tTime 0.431 (0.431)\tLoss 2.3273 (2.3273)\tPrec@1 12.500 (12.500)\tPrec@5 59.375 (59.375)\n",
            "Epoch: [73][0/4]\tTime 0.468 (0.468)\tData 0.374 (0.374)\tLoss 1.1458 (1.1458)\tPrec@1 84.375 (84.375)\tPrec@5 96.875 (96.875)\n",
            "Test: [0/313]\tTime 0.509 (0.509)\tLoss 2.3324 (2.3324)\tPrec@1 12.500 (12.500)\tPrec@5 59.375 (59.375)\n",
            "Epoch: [74][0/4]\tTime 0.501 (0.501)\tData 0.414 (0.414)\tLoss 1.0576 (1.0576)\tPrec@1 93.750 (93.750)\tPrec@5 100.000 (100.000)\n",
            "Test: [0/313]\tTime 0.627 (0.627)\tLoss 2.3261 (2.3261)\tPrec@1 12.500 (12.500)\tPrec@5 59.375 (59.375)\n",
            "Epoch: [75][0/4]\tTime 0.444 (0.444)\tData 0.344 (0.344)\tLoss 1.0242 (1.0242)\tPrec@1 93.750 (93.750)\tPrec@5 100.000 (100.000)\n",
            "Test: [0/313]\tTime 0.686 (0.686)\tLoss 2.3225 (2.3225)\tPrec@1 15.625 (15.625)\tPrec@5 59.375 (59.375)\n",
            "Epoch: [76][0/4]\tTime 0.464 (0.464)\tData 0.367 (0.367)\tLoss 1.0047 (1.0047)\tPrec@1 87.500 (87.500)\tPrec@5 100.000 (100.000)\n",
            "Test: [0/313]\tTime 0.686 (0.686)\tLoss 2.3251 (2.3251)\tPrec@1 15.625 (15.625)\tPrec@5 59.375 (59.375)\n",
            "Epoch: [77][0/4]\tTime 0.491 (0.491)\tData 0.405 (0.405)\tLoss 1.0685 (1.0685)\tPrec@1 90.625 (90.625)\tPrec@5 100.000 (100.000)\n",
            "Test: [0/313]\tTime 0.705 (0.705)\tLoss 2.3253 (2.3253)\tPrec@1 15.625 (15.625)\tPrec@5 59.375 (59.375)\n",
            "Epoch: [78][0/4]\tTime 0.461 (0.461)\tData 0.364 (0.364)\tLoss 0.9941 (0.9941)\tPrec@1 87.500 (87.500)\tPrec@5 100.000 (100.000)\n",
            "Test: [0/313]\tTime 0.452 (0.452)\tLoss 2.3385 (2.3385)\tPrec@1 15.625 (15.625)\tPrec@5 59.375 (59.375)\n",
            "Epoch: [79][0/4]\tTime 0.484 (0.484)\tData 0.398 (0.398)\tLoss 1.1671 (1.1671)\tPrec@1 78.125 (78.125)\tPrec@5 96.875 (96.875)\n",
            "Test: [0/313]\tTime 0.662 (0.662)\tLoss 2.3318 (2.3318)\tPrec@1 18.750 (18.750)\tPrec@5 59.375 (59.375)\n",
            "Epoch: [80][0/4]\tTime 0.488 (0.488)\tData 0.403 (0.403)\tLoss 1.0713 (1.0713)\tPrec@1 87.500 (87.500)\tPrec@5 100.000 (100.000)\n",
            "Test: [0/313]\tTime 0.625 (0.625)\tLoss 2.3236 (2.3236)\tPrec@1 15.625 (15.625)\tPrec@5 59.375 (59.375)\n",
            "Epoch: [81][0/4]\tTime 0.486 (0.486)\tData 0.387 (0.387)\tLoss 0.9950 (0.9950)\tPrec@1 96.875 (96.875)\tPrec@5 100.000 (100.000)\n",
            "Test: [0/313]\tTime 0.732 (0.732)\tLoss 2.3292 (2.3292)\tPrec@1 15.625 (15.625)\tPrec@5 59.375 (59.375)\n",
            "Epoch: [82][0/4]\tTime 0.491 (0.491)\tData 0.405 (0.405)\tLoss 1.1351 (1.1351)\tPrec@1 81.250 (81.250)\tPrec@5 96.875 (96.875)\n",
            "Test: [0/313]\tTime 0.713 (0.713)\tLoss 2.3295 (2.3295)\tPrec@1 18.750 (18.750)\tPrec@5 59.375 (59.375)\n",
            "Epoch: [83][0/4]\tTime 0.504 (0.504)\tData 0.418 (0.418)\tLoss 1.0609 (1.0609)\tPrec@1 90.625 (90.625)\tPrec@5 100.000 (100.000)\n",
            "Test: [0/313]\tTime 0.670 (0.670)\tLoss 2.3306 (2.3306)\tPrec@1 18.750 (18.750)\tPrec@5 59.375 (59.375)\n",
            "Epoch: [84][0/4]\tTime 0.458 (0.458)\tData 0.369 (0.369)\tLoss 1.1440 (1.1440)\tPrec@1 90.625 (90.625)\tPrec@5 100.000 (100.000)\n",
            "Test: [0/313]\tTime 0.662 (0.662)\tLoss 2.3351 (2.3351)\tPrec@1 18.750 (18.750)\tPrec@5 59.375 (59.375)\n",
            "Epoch: [85][0/4]\tTime 0.495 (0.495)\tData 0.409 (0.409)\tLoss 1.0920 (1.0920)\tPrec@1 87.500 (87.500)\tPrec@5 96.875 (96.875)\n",
            "Test: [0/313]\tTime 0.626 (0.626)\tLoss 2.3414 (2.3414)\tPrec@1 15.625 (15.625)\tPrec@5 59.375 (59.375)\n",
            "Epoch: [86][0/4]\tTime 0.519 (0.519)\tData 0.432 (0.432)\tLoss 0.9899 (0.9899)\tPrec@1 93.750 (93.750)\tPrec@5 100.000 (100.000)\n",
            "Test: [0/313]\tTime 0.555 (0.555)\tLoss 2.3433 (2.3433)\tPrec@1 12.500 (12.500)\tPrec@5 59.375 (59.375)\n",
            "Epoch: [87][0/4]\tTime 0.520 (0.520)\tData 0.435 (0.435)\tLoss 1.0567 (1.0567)\tPrec@1 87.500 (87.500)\tPrec@5 96.875 (96.875)\n",
            "Test: [0/313]\tTime 0.744 (0.744)\tLoss 2.3415 (2.3415)\tPrec@1 12.500 (12.500)\tPrec@5 59.375 (59.375)\n",
            "Epoch: [88][0/4]\tTime 0.461 (0.461)\tData 0.371 (0.371)\tLoss 1.0481 (1.0481)\tPrec@1 90.625 (90.625)\tPrec@5 100.000 (100.000)\n",
            "Test: [0/313]\tTime 0.531 (0.531)\tLoss 2.3424 (2.3424)\tPrec@1 12.500 (12.500)\tPrec@5 59.375 (59.375)\n",
            "Epoch: [89][0/4]\tTime 0.424 (0.424)\tData 0.324 (0.324)\tLoss 1.0989 (1.0989)\tPrec@1 84.375 (84.375)\tPrec@5 100.000 (100.000)\n",
            "Test: [0/313]\tTime 0.620 (0.620)\tLoss 2.3467 (2.3467)\tPrec@1 12.500 (12.500)\tPrec@5 59.375 (59.375)\n",
            "Epoch: [90][0/4]\tTime 0.475 (0.475)\tData 0.386 (0.386)\tLoss 1.0356 (1.0356)\tPrec@1 93.750 (93.750)\tPrec@5 100.000 (100.000)\n",
            "Test: [0/313]\tTime 0.691 (0.691)\tLoss 2.3362 (2.3362)\tPrec@1 18.750 (18.750)\tPrec@5 59.375 (59.375)\n",
            "Epoch: [91][0/4]\tTime 0.449 (0.449)\tData 0.346 (0.346)\tLoss 0.9674 (0.9674)\tPrec@1 90.625 (90.625)\tPrec@5 100.000 (100.000)\n",
            "Test: [0/313]\tTime 0.628 (0.628)\tLoss 2.3355 (2.3355)\tPrec@1 15.625 (15.625)\tPrec@5 59.375 (59.375)\n",
            "Epoch: [92][0/4]\tTime 0.514 (0.514)\tData 0.429 (0.429)\tLoss 1.0302 (1.0302)\tPrec@1 87.500 (87.500)\tPrec@5 100.000 (100.000)\n",
            "Test: [0/313]\tTime 0.648 (0.648)\tLoss 2.3515 (2.3515)\tPrec@1 12.500 (12.500)\tPrec@5 62.500 (62.500)\n",
            "Epoch: [93][0/4]\tTime 0.438 (0.438)\tData 0.331 (0.331)\tLoss 1.0557 (1.0557)\tPrec@1 90.625 (90.625)\tPrec@5 100.000 (100.000)\n",
            "Test: [0/313]\tTime 0.507 (0.507)\tLoss 2.3486 (2.3486)\tPrec@1 12.500 (12.500)\tPrec@5 62.500 (62.500)\n",
            "Epoch: [94][0/4]\tTime 0.506 (0.506)\tData 0.421 (0.421)\tLoss 1.1170 (1.1170)\tPrec@1 87.500 (87.500)\tPrec@5 96.875 (96.875)\n",
            "Test: [0/313]\tTime 0.614 (0.614)\tLoss 2.3508 (2.3508)\tPrec@1 12.500 (12.500)\tPrec@5 59.375 (59.375)\n",
            "Epoch: [95][0/4]\tTime 0.456 (0.456)\tData 0.346 (0.346)\tLoss 0.9790 (0.9790)\tPrec@1 90.625 (90.625)\tPrec@5 100.000 (100.000)\n",
            "Test: [0/313]\tTime 0.700 (0.700)\tLoss 2.3455 (2.3455)\tPrec@1 12.500 (12.500)\tPrec@5 59.375 (59.375)\n",
            "Epoch: [96][0/4]\tTime 0.461 (0.461)\tData 0.375 (0.375)\tLoss 1.0524 (1.0524)\tPrec@1 93.750 (93.750)\tPrec@5 100.000 (100.000)\n",
            "Test: [0/313]\tTime 0.729 (0.729)\tLoss 2.3402 (2.3402)\tPrec@1 15.625 (15.625)\tPrec@5 59.375 (59.375)\n",
            "Epoch: [97][0/4]\tTime 0.511 (0.511)\tData 0.424 (0.424)\tLoss 1.1413 (1.1413)\tPrec@1 90.625 (90.625)\tPrec@5 96.875 (96.875)\n",
            "Test: [0/313]\tTime 0.620 (0.620)\tLoss 2.3465 (2.3465)\tPrec@1 12.500 (12.500)\tPrec@5 59.375 (59.375)\n",
            "Epoch: [98][0/4]\tTime 0.489 (0.489)\tData 0.402 (0.402)\tLoss 1.0210 (1.0210)\tPrec@1 93.750 (93.750)\tPrec@5 100.000 (100.000)\n",
            "Test: [0/313]\tTime 0.528 (0.528)\tLoss 2.3466 (2.3466)\tPrec@1 12.500 (12.500)\tPrec@5 59.375 (59.375)\n",
            "Epoch: [99][0/4]\tTime 0.481 (0.481)\tData 0.394 (0.394)\tLoss 1.0625 (1.0625)\tPrec@1 87.500 (87.500)\tPrec@5 96.875 (96.875)\n",
            "Test: [0/313]\tTime 0.692 (0.692)\tLoss 2.3434 (2.3434)\tPrec@1 9.375 (9.375)\tPrec@5 59.375 (59.375)\n"
          ],
          "name": "stdout"
        },
        {
          "output_type": "display_data",
          "data": {
            "image/png": "[encoded data removed]",
            "text/plain": [
              "<Figure size 1200x800 with 6 Axes>"
            ]
          },
          "metadata": {
            "tags": []
          }
        }
      ]
    },
    {
      "metadata": {
        "id": "cAVy3wu8l5Gg",
        "colab_type": "text"
      },
      "cell_type": "markdown",
      "source": [
        "| Model | Number of  epochs  | Train accuracy | Test accuracy |\n",
        "|------|------|------|------|\n",
        "|   resnet18  | 100 | 93% | 22% |\n"
      ]
    },
    {
      "metadata": {
        "colab_type": "text",
        "id": "7iDpQVyBLySG"
      },
      "cell_type": "markdown",
      "source": [
        "## VGG-like architectures"
      ]
    },
    {
      "metadata": {
        "colab_type": "text",
        "id": "rwkHhRzKLySH"
      },
      "cell_type": "markdown",
      "source": [
        "__Question 4:__ Same question as before, but with a *VGG*. Which model do you recommend?"
      ]
    },
    {
      "metadata": {
        "colab_type": "code",
        "id": "H0UnhQVqLySI",
        "outputId": "c4752acb-c242-4084-ed2c-d7a9bbdd56db",
        "colab": {
          "base_uri": "https://localhost:8080/",
          "height": 925
        }
      },
      "cell_type": "code",
      "source": [
        "# Hyperparameters\n",
        "args = Args(\n",
        "        arch=\"vgg11\", \n",
        "        workers=4, \n",
        "        epochs=100, \n",
        "        start_epoch=0, \n",
        "        batch_size=32, \n",
        "        lr=0.001, \n",
        "        momentum=0.9, \n",
        "        weight_decay=1e-4, \n",
        "        print_freq=1000, \n",
        "        resume=\"\", \n",
        "        evaluate=False, \n",
        "        pretrained=False,\n",
        "        early_stopping=True\n",
        ")\n",
        "\n",
        "classifier2 = Classifier(args, transf)\n",
        "classifier2.run_training()\n",
        "classifier2.plot_results()"
      ],
      "execution_count": 37,
      "outputs": [
        {
          "output_type": "stream",
          "text": [
            "model_names ['alexnet', 'densenet121', 'densenet161', 'densenet169', 'densenet201', 'inception_v3', 'resnet101', 'resnet152', 'resnet18', 'resnet34', 'resnet50', 'squeezenet1_0', 'squeezenet1_1', 'vgg11', 'vgg11_bn', 'vgg13', 'vgg13_bn', 'vgg16', 'vgg16_bn', 'vgg19', 'vgg19_bn']\n",
            "=> creating model 'vgg11'\n",
            "Epoch: [0][3/4]\tTime 0.361 (0.447)\tData 0.000 (0.091)\tLoss 6.9043 (6.8994)\tPrec@1 0.000 (0.000)\tPrec@5 0.000 (0.000)\n"
          ],
          "name": "stdout"
        },
        {
          "output_type": "stream",
          "text": [
            "/usr/local/lib/python3.6/dist-packages/ipykernel_launcher.py:256: UserWarning: volatile was removed and now has no effect. Use `with torch.no_grad():` instead.\n",
            "/usr/local/lib/python3.6/dist-packages/ipykernel_launcher.py:257: UserWarning: volatile was removed and now has no effect. Use `with torch.no_grad():` instead.\n"
          ],
          "name": "stderr"
        },
        {
          "output_type": "stream",
          "text": [
            "Test: [312/313]\tTime 0.081 (0.319)\tLoss 6.8452 (6.8351)\tPrec@1 6.250 (10.000)\tPrec@5 6.250 (23.890)\n",
            "Epoch: [1][3/4]\tTime 0.361 (0.679)\tData 0.000 (0.159)\tLoss 6.6628 (6.8022)\tPrec@1 25.000 (4.000)\tPrec@5 50.000 (15.000)\n",
            "Test: [312/313]\tTime 0.080 (0.319)\tLoss 6.7096 (6.6885)\tPrec@1 6.250 (10.000)\tPrec@5 43.750 (50.000)\n",
            "Epoch: [2][3/4]\tTime 0.370 (0.638)\tData 0.000 (0.109)\tLoss 6.4778 (6.5871)\tPrec@1 0.000 (14.000)\tPrec@5 50.000 (44.000)\n",
            "Test: [312/313]\tTime 0.080 (0.319)\tLoss 6.3323 (6.2749)\tPrec@1 6.250 (10.000)\tPrec@5 50.000 (50.000)\n",
            "Epoch: [3][3/4]\tTime 0.364 (0.618)\tData 0.000 (0.101)\tLoss 4.4985 (5.7918)\tPrec@1 0.000 (16.000)\tPrec@5 50.000 (66.000)\n",
            "Test: [312/313]\tTime 0.082 (0.320)\tLoss 4.1619 (3.9257)\tPrec@1 6.250 (10.000)\tPrec@5 50.000 (50.000)\n",
            "Epoch: [4][3/4]\tTime 0.372 (0.640)\tData 0.000 (0.116)\tLoss 2.0086 (3.5523)\tPrec@1 25.000 (20.000)\tPrec@5 75.000 (62.000)\n",
            "Test: [312/313]\tTime 0.082 (0.320)\tLoss 8.4628 (7.6431)\tPrec@1 0.000 (10.000)\tPrec@5 43.750 (50.000)\n"
          ],
          "name": "stdout"
        },
        {
          "output_type": "display_data",
          "data": {
            "image/png": "[encoded data removed]",
            "text/plain": [
              "<Figure size 1200x800 with 6 Axes>"
            ]
          },
          "metadata": {
            "tags": []
          }
        }
      ]
    },
    {
      "metadata": {
        "id": "1R7YvnRZmQgZ",
        "colab_type": "text"
      },
      "cell_type": "markdown",
      "source": [
        "| Model | Number of  epochs  | Train accuracy | Test accuracy |\n",
        "|------|------|------|------|\n",
        "|   vgg11  | 10 | 15% | 10% |\n"
      ]
    },
    {
      "metadata": {
        "colab_type": "text",
        "id": "8Hij8vN4LySL"
      },
      "cell_type": "markdown",
      "source": [
        "# Transfer learning"
      ]
    },
    {
      "metadata": {
        "colab_type": "text",
        "id": "ta0dVVkLLySM"
      },
      "cell_type": "markdown",
      "source": [
        "We propose to use pre-trained models on a classification and generative task, in order to improve the results of our setting."
      ]
    },
    {
      "metadata": {
        "colab_type": "text",
        "id": "Pf28XHgMLySO"
      },
      "cell_type": "markdown",
      "source": [
        "## ImageNet features"
      ]
    },
    {
      "metadata": {
        "colab_type": "text",
        "id": "4yO8O4EBLySP"
      },
      "cell_type": "markdown",
      "source": [
        "Now, we will use some pre-trained models on ImageNet and see how well they compare on CIFAR. A list is available on: https://pytorch.org/docs/stable/torchvision/models.html.\n",
        "\n",
        "__Question 5:__ Pick a model from the list above, adapt it to CIFAR and retrain its final layer (or a block of layers, depending on the resources to which you have access to). Report its accuracy."
      ]
    },
    {
      "metadata": {
        "colab_type": "code",
        "id": "JeHJQDBhLySS",
        "outputId": "6f6f8a60-b241-4d81-f5af-cf8afb1bb641",
        "colab": {
          "base_uri": "https://localhost:8080/",
          "height": 2910
        }
      },
      "cell_type": "code",
      "source": [
        "# Hyperparameters\n",
        "args = Args(\n",
        "        arch=\"resnet18\", \n",
        "        workers=4, \n",
        "        epochs=100, \n",
        "        start_epoch=0, \n",
        "        batch_size=32, \n",
        "        lr=0.001, \n",
        "        momentum=0.9, \n",
        "        weight_decay=1e-4, \n",
        "        print_freq=1000, \n",
        "        resume=\"\", \n",
        "        evaluate=False, \n",
        "        pretrained=True,\n",
        "        early_stopping=True\n",
        ")\n",
        "\n",
        "classifier3 = Classifier(args, transf)\n",
        "classifier3.run_training()\n",
        "classifier3.plot_results()"
      ],
      "execution_count": 0,
      "outputs": [
        {
          "output_type": "stream",
          "text": [
            "model_names ['alexnet', 'densenet121', 'densenet161', 'densenet169', 'densenet201', 'inception_v3', 'resnet101', 'resnet152', 'resnet18', 'resnet34', 'resnet50', 'squeezenet1_0', 'squeezenet1_1', 'vgg11', 'vgg11_bn', 'vgg13', 'vgg13_bn', 'vgg16', 'vgg16_bn', 'vgg19', 'vgg19_bn']\n",
            "=> using pre-trained model 'resnet18'\n"
          ],
          "name": "stdout"
        },
        {
          "output_type": "stream",
          "text": [
            "Downloading: \"https://download.pytorch.org/models/resnet18-5c106cde.pth\" to /root/.torch/models/resnet18-5c106cde.pth\n",
            "\n",
            "0it [00:00, ?it/s]\u001b[A\n",
            "4923392it [00:00, 49212026.11it/s]\u001b[A\n",
            "13606912it [00:00, 56559993.85it/s]\u001b[A\n",
            "22691840it [00:00, 63775899.64it/s]\u001b[A\n",
            "31039488it [00:00, 68619267.15it/s]\u001b[A\n",
            "39469056it [00:00, 72671887.77it/s]\u001b[A\n",
            "46827520it [00:00, 80375034.30it/s]\u001b[A"
          ],
          "name": "stderr"
        },
        {
          "output_type": "stream",
          "text": [
            "Epoch: [0][3/4]\tTime 0.146 (0.313)\tData 0.000 (0.131)\tLoss 7.7193 (8.5260)\tPrec@1 0.000 (0.000)\tPrec@5 0.000 (0.000)\n"
          ],
          "name": "stdout"
        },
        {
          "output_type": "stream",
          "text": [
            "/usr/local/lib/python3.6/dist-packages/ipykernel_launcher.py:256: UserWarning: volatile was removed and now has no effect. Use `with torch.no_grad():` instead.\n",
            "/usr/local/lib/python3.6/dist-packages/ipykernel_launcher.py:257: UserWarning: volatile was removed and now has no effect. Use `with torch.no_grad():` instead.\n"
          ],
          "name": "stderr"
        },
        {
          "output_type": "stream",
          "text": [
            "Test: [312/313]\tTime 0.033 (0.086)\tLoss 11.4073 (10.6456)\tPrec@1 0.000 (0.000)\tPrec@5 0.000 (0.000)\n",
            "Epoch: [1][3/4]\tTime 0.135 (0.254)\tData 0.000 (0.101)\tLoss 6.6114 (6.8216)\tPrec@1 0.000 (3.000)\tPrec@5 0.000 (6.000)\n",
            "Test: [312/313]\tTime 0.033 (0.086)\tLoss 9.0673 (8.5509)\tPrec@1 0.000 (0.000)\tPrec@5 0.000 (0.230)\n",
            "Epoch: [2][3/4]\tTime 0.135 (0.273)\tData 0.000 (0.117)\tLoss 4.3212 (4.7276)\tPrec@1 50.000 (27.000)\tPrec@5 50.000 (39.000)\n",
            "Test: [312/313]\tTime 0.033 (0.086)\tLoss 9.3960 (9.0843)\tPrec@1 0.000 (1.830)\tPrec@5 0.000 (10.250)\n",
            "Epoch: [3][3/4]\tTime 0.135 (0.264)\tData 0.000 (0.107)\tLoss 1.0003 (2.6580)\tPrec@1 75.000 (51.000)\tPrec@5 100.000 (79.000)\n",
            "Test: [312/313]\tTime 0.033 (0.086)\tLoss 7.7319 (7.1542)\tPrec@1 0.000 (9.310)\tPrec@5 12.500 (18.210)\n",
            "Epoch: [4][3/4]\tTime 0.134 (0.277)\tData 0.000 (0.120)\tLoss 2.3903 (1.4695)\tPrec@1 25.000 (63.000)\tPrec@5 100.000 (94.000)\n",
            "Test: [312/313]\tTime 0.033 (0.086)\tLoss 7.0954 (6.3975)\tPrec@1 6.250 (13.530)\tPrec@5 43.750 (39.020)\n",
            "Epoch: [5][3/4]\tTime 0.135 (0.274)\tData 0.000 (0.118)\tLoss 1.5672 (0.8409)\tPrec@1 50.000 (75.000)\tPrec@5 100.000 (99.000)\n",
            "Test: [312/313]\tTime 0.033 (0.085)\tLoss 6.2019 (6.2262)\tPrec@1 6.250 (11.180)\tPrec@5 43.750 (46.300)\n",
            "Epoch: [6][3/4]\tTime 0.136 (0.256)\tData 0.000 (0.102)\tLoss 1.3996 (0.6414)\tPrec@1 75.000 (83.000)\tPrec@5 100.000 (99.000)\n",
            "Test: [312/313]\tTime 0.033 (0.085)\tLoss 6.5288 (5.7629)\tPrec@1 18.750 (15.400)\tPrec@5 37.500 (45.830)\n",
            "Epoch: [7][3/4]\tTime 0.135 (0.264)\tData 0.000 (0.107)\tLoss 1.1132 (0.3870)\tPrec@1 50.000 (89.000)\tPrec@5 100.000 (99.000)\n",
            "Test: [312/313]\tTime 0.033 (0.085)\tLoss 7.3218 (6.9415)\tPrec@1 18.750 (12.540)\tPrec@5 25.000 (39.130)\n",
            "Epoch: [8][3/4]\tTime 0.135 (0.267)\tData 0.000 (0.110)\tLoss 2.6610 (0.3955)\tPrec@1 0.000 (89.000)\tPrec@5 100.000 (100.000)\n",
            "Test: [312/313]\tTime 0.033 (0.084)\tLoss 4.6170 (4.7178)\tPrec@1 31.250 (16.040)\tPrec@5 43.750 (51.820)\n",
            "Epoch: [9][3/4]\tTime 0.136 (0.274)\tData 0.000 (0.117)\tLoss 0.5596 (0.3457)\tPrec@1 75.000 (89.000)\tPrec@5 100.000 (100.000)\n",
            "Test: [312/313]\tTime 0.033 (0.084)\tLoss 4.5120 (4.1827)\tPrec@1 6.250 (15.980)\tPrec@5 43.750 (52.080)\n",
            "Epoch: [10][3/4]\tTime 0.140 (0.269)\tData 0.000 (0.110)\tLoss 0.4139 (0.3295)\tPrec@1 100.000 (89.000)\tPrec@5 100.000 (100.000)\n",
            "Test: [312/313]\tTime 0.033 (0.084)\tLoss 5.0332 (4.5317)\tPrec@1 18.750 (15.240)\tPrec@5 50.000 (45.560)\n",
            "Epoch: [11][3/4]\tTime 0.137 (0.266)\tData 0.000 (0.109)\tLoss 0.9601 (0.2226)\tPrec@1 50.000 (94.000)\tPrec@5 100.000 (100.000)\n",
            "Test: [312/313]\tTime 0.033 (0.084)\tLoss 4.2308 (3.7787)\tPrec@1 18.750 (19.280)\tPrec@5 50.000 (55.890)\n",
            "Epoch: [12][3/4]\tTime 0.137 (0.265)\tData 0.000 (0.108)\tLoss 0.2748 (0.2435)\tPrec@1 75.000 (91.000)\tPrec@5 100.000 (100.000)\n",
            "Test: [312/313]\tTime 0.033 (0.085)\tLoss 4.9094 (4.9957)\tPrec@1 25.000 (15.590)\tPrec@5 43.750 (39.740)\n",
            "Epoch: [13][3/4]\tTime 0.135 (0.250)\tData 0.000 (0.095)\tLoss 2.0824 (0.3438)\tPrec@1 50.000 (91.000)\tPrec@5 100.000 (100.000)\n",
            "Test: [312/313]\tTime 0.033 (0.085)\tLoss 4.7881 (5.6290)\tPrec@1 12.500 (13.500)\tPrec@5 43.750 (35.840)\n",
            "Epoch: [14][3/4]\tTime 0.135 (0.260)\tData 0.000 (0.104)\tLoss 0.1288 (0.1907)\tPrec@1 100.000 (96.000)\tPrec@5 100.000 (100.000)\n",
            "Test: [312/313]\tTime 0.033 (0.085)\tLoss 4.0933 (4.7589)\tPrec@1 25.000 (17.420)\tPrec@5 56.250 (39.920)\n",
            "Epoch: [15][3/4]\tTime 0.137 (0.271)\tData 0.000 (0.114)\tLoss 0.1553 (0.3106)\tPrec@1 100.000 (92.000)\tPrec@5 100.000 (100.000)\n",
            "Test: [312/313]\tTime 0.033 (0.085)\tLoss 5.1205 (4.4138)\tPrec@1 25.000 (19.680)\tPrec@5 43.750 (50.930)\n",
            "Epoch: [16][3/4]\tTime 0.135 (0.273)\tData 0.000 (0.117)\tLoss 0.1942 (0.1821)\tPrec@1 100.000 (95.000)\tPrec@5 100.000 (100.000)\n",
            "Test: [312/313]\tTime 0.033 (0.086)\tLoss 5.4707 (4.2371)\tPrec@1 18.750 (21.900)\tPrec@5 31.250 (54.810)\n",
            "Epoch: [17][3/4]\tTime 0.128 (0.270)\tData 0.000 (0.113)\tLoss 0.7782 (0.0950)\tPrec@1 75.000 (99.000)\tPrec@5 100.000 (100.000)\n",
            "Test: [312/313]\tTime 0.033 (0.085)\tLoss 5.5169 (4.3005)\tPrec@1 25.000 (21.860)\tPrec@5 43.750 (56.320)\n",
            "Epoch: [18][3/4]\tTime 0.136 (0.246)\tData 0.000 (0.097)\tLoss 0.4024 (0.0625)\tPrec@1 100.000 (100.000)\tPrec@5 100.000 (100.000)\n",
            "Test: [312/313]\tTime 0.033 (0.086)\tLoss 4.7337 (4.3815)\tPrec@1 25.000 (20.670)\tPrec@5 56.250 (57.230)\n",
            "Epoch: [19][3/4]\tTime 0.135 (0.253)\tData 0.000 (0.098)\tLoss 0.6203 (0.0814)\tPrec@1 75.000 (99.000)\tPrec@5 100.000 (100.000)\n",
            "Test: [312/313]\tTime 0.033 (0.085)\tLoss 4.2717 (4.2123)\tPrec@1 25.000 (21.810)\tPrec@5 56.250 (61.790)\n",
            "Epoch: [20][3/4]\tTime 0.137 (0.275)\tData 0.000 (0.118)\tLoss 0.5649 (0.1105)\tPrec@1 75.000 (97.000)\tPrec@5 100.000 (100.000)\n",
            "Test: [312/313]\tTime 0.033 (0.085)\tLoss 4.1793 (4.2297)\tPrec@1 31.250 (20.180)\tPrec@5 56.250 (58.020)\n",
            "Epoch: [21][3/4]\tTime 0.137 (0.267)\tData 0.000 (0.110)\tLoss 0.3555 (0.1158)\tPrec@1 75.000 (99.000)\tPrec@5 100.000 (100.000)\n",
            "Test: [312/313]\tTime 0.033 (0.085)\tLoss 3.4765 (4.3846)\tPrec@1 37.500 (17.470)\tPrec@5 62.500 (45.870)\n",
            "Epoch: [22][3/4]\tTime 0.136 (0.252)\tData 0.000 (0.097)\tLoss 1.8122 (0.2121)\tPrec@1 50.000 (95.000)\tPrec@5 100.000 (100.000)\n",
            "Test: [312/313]\tTime 0.033 (0.085)\tLoss 3.1376 (3.9016)\tPrec@1 37.500 (23.740)\tPrec@5 68.750 (54.240)\n",
            "Epoch: [23][3/4]\tTime 0.136 (0.267)\tData 0.000 (0.110)\tLoss 1.5053 (0.1678)\tPrec@1 50.000 (96.000)\tPrec@5 100.000 (100.000)\n",
            "Test: [312/313]\tTime 0.033 (0.085)\tLoss 4.0609 (3.5155)\tPrec@1 31.250 (24.100)\tPrec@5 62.500 (65.010)\n",
            "Epoch: [24][3/4]\tTime 0.136 (0.273)\tData 0.000 (0.116)\tLoss 1.3264 (0.2162)\tPrec@1 75.000 (95.000)\tPrec@5 100.000 (100.000)\n",
            "Test: [312/313]\tTime 0.033 (0.086)\tLoss 5.9215 (4.9057)\tPrec@1 12.500 (15.850)\tPrec@5 56.250 (56.060)\n",
            "Epoch: [25][3/4]\tTime 0.135 (0.271)\tData 0.000 (0.115)\tLoss 3.0893 (0.4348)\tPrec@1 50.000 (87.000)\tPrec@5 100.000 (100.000)\n",
            "Test: [312/313]\tTime 0.033 (0.086)\tLoss 5.2807 (4.9978)\tPrec@1 18.750 (14.160)\tPrec@5 43.750 (48.270)\n",
            "Epoch: [26][3/4]\tTime 0.135 (0.271)\tData 0.000 (0.115)\tLoss 0.1477 (0.2288)\tPrec@1 100.000 (95.000)\tPrec@5 100.000 (100.000)\n",
            "Test: [312/313]\tTime 0.033 (0.086)\tLoss 3.6569 (4.0906)\tPrec@1 31.250 (18.830)\tPrec@5 62.500 (56.070)\n",
            "Epoch: [27][3/4]\tTime 0.136 (0.265)\tData 0.000 (0.108)\tLoss 0.4812 (0.2688)\tPrec@1 75.000 (92.000)\tPrec@5 100.000 (100.000)\n",
            "Test: [312/313]\tTime 0.033 (0.085)\tLoss 3.4307 (4.1135)\tPrec@1 31.250 (19.820)\tPrec@5 62.500 (63.460)\n",
            "Epoch: [28][3/4]\tTime 0.130 (0.264)\tData 0.000 (0.108)\tLoss 0.1569 (0.1437)\tPrec@1 100.000 (97.000)\tPrec@5 100.000 (100.000)\n",
            "Test: [312/313]\tTime 0.033 (0.084)\tLoss 3.4610 (4.0695)\tPrec@1 25.000 (22.540)\tPrec@5 75.000 (66.810)\n",
            "Epoch: [29][3/4]\tTime 0.137 (0.268)\tData 0.000 (0.112)\tLoss 0.1317 (0.2084)\tPrec@1 100.000 (97.000)\tPrec@5 100.000 (99.000)\n",
            "Test: [312/313]\tTime 0.033 (0.086)\tLoss 3.9396 (3.9701)\tPrec@1 25.000 (24.510)\tPrec@5 56.250 (70.720)\n",
            "Epoch: [30][3/4]\tTime 0.137 (0.273)\tData 0.000 (0.116)\tLoss 0.1863 (0.1548)\tPrec@1 100.000 (99.000)\tPrec@5 100.000 (99.000)\n",
            "Test: [312/313]\tTime 0.033 (0.085)\tLoss 4.4417 (3.9838)\tPrec@1 31.250 (26.360)\tPrec@5 50.000 (72.010)\n",
            "Epoch: [31][3/4]\tTime 0.135 (0.276)\tData 0.000 (0.119)\tLoss 0.2013 (0.0834)\tPrec@1 100.000 (98.000)\tPrec@5 100.000 (100.000)\n",
            "Test: [312/313]\tTime 0.033 (0.085)\tLoss 4.5993 (3.9775)\tPrec@1 25.000 (26.260)\tPrec@5 56.250 (72.820)\n",
            "Epoch: [32][3/4]\tTime 0.135 (0.270)\tData 0.000 (0.114)\tLoss 1.5832 (0.1292)\tPrec@1 75.000 (99.000)\tPrec@5 100.000 (100.000)\n",
            "Test: [312/313]\tTime 0.033 (0.085)\tLoss 4.7189 (3.9962)\tPrec@1 25.000 (26.590)\tPrec@5 56.250 (73.220)\n",
            "Epoch: [33][3/4]\tTime 0.137 (0.275)\tData 0.000 (0.117)\tLoss 0.1420 (0.0469)\tPrec@1 100.000 (100.000)\tPrec@5 100.000 (100.000)\n",
            "Test: [312/313]\tTime 0.033 (0.085)\tLoss 4.4335 (3.8534)\tPrec@1 25.000 (27.490)\tPrec@5 68.750 (74.320)\n",
            "Epoch: [34][3/4]\tTime 0.135 (0.274)\tData 0.000 (0.117)\tLoss 0.5674 (0.0626)\tPrec@1 75.000 (99.000)\tPrec@5 100.000 (100.000)\n",
            "Test: [312/313]\tTime 0.033 (0.085)\tLoss 4.3901 (3.8506)\tPrec@1 25.000 (27.750)\tPrec@5 68.750 (74.480)\n",
            "Epoch: [35][3/4]\tTime 0.136 (0.269)\tData 0.000 (0.112)\tLoss 0.1423 (0.0434)\tPrec@1 100.000 (100.000)\tPrec@5 100.000 (100.000)\n",
            "Test: [312/313]\tTime 0.033 (0.085)\tLoss 4.3720 (3.9208)\tPrec@1 25.000 (27.650)\tPrec@5 68.750 (74.040)\n",
            "Epoch: [36][3/4]\tTime 0.137 (0.251)\tData 0.000 (0.096)\tLoss 0.4610 (0.0562)\tPrec@1 100.000 (100.000)\tPrec@5 100.000 (100.000)\n",
            "Test: [312/313]\tTime 0.033 (0.084)\tLoss 4.5405 (3.9504)\tPrec@1 25.000 (27.300)\tPrec@5 62.500 (74.200)\n",
            "Epoch: [37][3/4]\tTime 0.130 (0.264)\tData 0.000 (0.107)\tLoss 1.0268 (0.0733)\tPrec@1 50.000 (98.000)\tPrec@5 100.000 (100.000)\n",
            "Test: [312/313]\tTime 0.033 (0.084)\tLoss 4.7040 (3.9948)\tPrec@1 25.000 (27.410)\tPrec@5 62.500 (74.110)\n",
            "Epoch: [38][3/4]\tTime 0.135 (0.264)\tData 0.000 (0.107)\tLoss 0.3450 (0.0551)\tPrec@1 75.000 (99.000)\tPrec@5 100.000 (100.000)\n",
            "Test: [312/313]\tTime 0.033 (0.085)\tLoss 4.4769 (3.9334)\tPrec@1 25.000 (28.220)\tPrec@5 62.500 (74.590)\n",
            "Epoch: [39][3/4]\tTime 0.135 (0.257)\tData 0.000 (0.101)\tLoss 0.4680 (0.0407)\tPrec@1 100.000 (100.000)\tPrec@5 100.000 (100.000)\n",
            "Test: [312/313]\tTime 0.033 (0.084)\tLoss 4.2485 (3.8224)\tPrec@1 25.000 (28.810)\tPrec@5 62.500 (75.270)\n",
            "Epoch: [40][3/4]\tTime 0.136 (0.266)\tData 0.000 (0.110)\tLoss 0.8280 (0.0583)\tPrec@1 75.000 (99.000)\tPrec@5 100.000 (100.000)\n",
            "Test: [312/313]\tTime 0.033 (0.085)\tLoss 4.2010 (3.8351)\tPrec@1 25.000 (28.800)\tPrec@5 62.500 (75.170)\n",
            "Epoch: [41][3/4]\tTime 0.136 (0.260)\tData 0.000 (0.103)\tLoss 0.0718 (0.0271)\tPrec@1 100.000 (100.000)\tPrec@5 100.000 (100.000)\n",
            "Test: [312/313]\tTime 0.033 (0.084)\tLoss 4.2897 (3.9247)\tPrec@1 25.000 (28.280)\tPrec@5 62.500 (74.630)\n",
            "Epoch: [42][3/4]\tTime 0.134 (0.259)\tData 0.000 (0.105)\tLoss 1.3857 (0.0911)\tPrec@1 75.000 (99.000)\tPrec@5 100.000 (100.000)\n",
            "Test: [312/313]\tTime 0.033 (0.085)\tLoss 4.3892 (3.9775)\tPrec@1 25.000 (27.800)\tPrec@5 56.250 (74.050)\n",
            "Epoch: [43][3/4]\tTime 0.136 (0.266)\tData 0.000 (0.109)\tLoss 0.9154 (0.0627)\tPrec@1 75.000 (99.000)\tPrec@5 100.000 (100.000)\n",
            "Test: [312/313]\tTime 0.033 (0.084)\tLoss 4.6523 (3.9962)\tPrec@1 25.000 (27.990)\tPrec@5 56.250 (73.940)\n",
            "Epoch: [44][3/4]\tTime 0.137 (0.262)\tData 0.000 (0.105)\tLoss 0.1753 (0.0251)\tPrec@1 100.000 (100.000)\tPrec@5 100.000 (100.000)\n",
            "Test: [312/313]\tTime 0.033 (0.085)\tLoss 4.8779 (4.0638)\tPrec@1 25.000 (27.710)\tPrec@5 50.000 (73.820)\n",
            "Epoch: [45][3/4]\tTime 0.144 (0.269)\tData 0.000 (0.111)\tLoss 0.6373 (0.0503)\tPrec@1 75.000 (99.000)\tPrec@5 100.000 (100.000)\n",
            "Test: [312/313]\tTime 0.033 (0.084)\tLoss 4.8533 (3.9849)\tPrec@1 25.000 (27.720)\tPrec@5 50.000 (74.340)\n",
            "Epoch: [46][3/4]\tTime 0.135 (0.267)\tData 0.000 (0.111)\tLoss 0.2182 (0.0253)\tPrec@1 100.000 (100.000)\tPrec@5 100.000 (100.000)\n",
            "Test: [312/313]\tTime 0.033 (0.084)\tLoss 5.0514 (4.0203)\tPrec@1 18.750 (26.960)\tPrec@5 56.250 (73.890)\n",
            "Epoch: [47][3/4]\tTime 0.135 (0.266)\tData 0.000 (0.109)\tLoss 2.4067 (0.1213)\tPrec@1 25.000 (97.000)\tPrec@5 75.000 (99.000)\n",
            "Test: [312/313]\tTime 0.033 (0.085)\tLoss 5.2844 (4.1336)\tPrec@1 18.750 (27.320)\tPrec@5 50.000 (73.400)\n",
            "Epoch: [48][3/4]\tTime 0.139 (0.262)\tData 0.000 (0.105)\tLoss 0.2310 (0.0308)\tPrec@1 100.000 (100.000)\tPrec@5 100.000 (100.000)\n",
            "Test: [312/313]\tTime 0.033 (0.085)\tLoss 4.8412 (3.9375)\tPrec@1 18.750 (28.100)\tPrec@5 43.750 (74.700)\n",
            "Epoch: [49][3/4]\tTime 0.135 (0.247)\tData 0.000 (0.094)\tLoss 0.4048 (0.0334)\tPrec@1 75.000 (99.000)\tPrec@5 100.000 (100.000)\n",
            "Test: [312/313]\tTime 0.033 (0.084)\tLoss 4.7897 (3.9004)\tPrec@1 25.000 (27.370)\tPrec@5 56.250 (74.440)\n",
            "Epoch: [50][3/4]\tTime 0.136 (0.260)\tData 0.000 (0.103)\tLoss 0.3236 (0.0313)\tPrec@1 100.000 (100.000)\tPrec@5 100.000 (100.000)\n",
            "Test: [312/313]\tTime 0.033 (0.085)\tLoss 4.5673 (3.9062)\tPrec@1 25.000 (27.060)\tPrec@5 56.250 (74.630)\n",
            "Epoch: [51][3/4]\tTime 0.135 (0.265)\tData 0.000 (0.108)\tLoss 0.0853 (0.0197)\tPrec@1 100.000 (100.000)\tPrec@5 100.000 (100.000)\n",
            "Test: [312/313]\tTime 0.033 (0.085)\tLoss 4.3503 (3.8564)\tPrec@1 25.000 (27.420)\tPrec@5 62.500 (74.880)\n",
            "Epoch: [52][3/4]\tTime 0.136 (0.264)\tData 0.000 (0.108)\tLoss 0.3770 (0.0319)\tPrec@1 75.000 (99.000)\tPrec@5 100.000 (100.000)\n",
            "Test: [312/313]\tTime 0.033 (0.084)\tLoss 4.3155 (3.8177)\tPrec@1 18.750 (27.380)\tPrec@5 62.500 (75.290)\n",
            "Epoch: [53][3/4]\tTime 0.134 (0.246)\tData 0.000 (0.094)\tLoss 0.2170 (0.0286)\tPrec@1 100.000 (100.000)\tPrec@5 100.000 (100.000)\n",
            "Test: [312/313]\tTime 0.033 (0.085)\tLoss 4.2683 (3.7794)\tPrec@1 25.000 (27.700)\tPrec@5 56.250 (75.760)\n",
            "Epoch: [54][3/4]\tTime 0.134 (0.259)\tData 0.000 (0.103)\tLoss 0.1080 (0.0241)\tPrec@1 100.000 (100.000)\tPrec@5 100.000 (100.000)\n",
            "Test: [312/313]\tTime 0.033 (0.085)\tLoss 4.2708 (3.7803)\tPrec@1 31.250 (27.950)\tPrec@5 56.250 (75.960)\n",
            "Epoch: [55][3/4]\tTime 0.136 (0.258)\tData 0.000 (0.100)\tLoss 0.7273 (0.0519)\tPrec@1 50.000 (98.000)\tPrec@5 100.000 (100.000)\n",
            "Test: [312/313]\tTime 0.033 (0.085)\tLoss 4.2753 (3.7523)\tPrec@1 31.250 (28.320)\tPrec@5 50.000 (76.060)\n",
            "Epoch: [56][3/4]\tTime 0.135 (0.267)\tData 0.000 (0.111)\tLoss 0.0348 (0.0302)\tPrec@1 100.000 (99.000)\tPrec@5 100.000 (100.000)\n",
            "Test: [312/313]\tTime 0.033 (0.084)\tLoss 4.3764 (3.7796)\tPrec@1 31.250 (28.360)\tPrec@5 50.000 (75.360)\n",
            "Epoch: [57][3/4]\tTime 0.137 (0.251)\tData 0.000 (0.100)\tLoss 0.2898 (0.0326)\tPrec@1 100.000 (100.000)\tPrec@5 100.000 (100.000)\n",
            "Test: [312/313]\tTime 0.033 (0.085)\tLoss 4.7072 (3.8465)\tPrec@1 18.750 (28.020)\tPrec@5 50.000 (74.920)\n",
            "Epoch: [58][3/4]\tTime 0.134 (0.264)\tData 0.000 (0.109)\tLoss 0.2422 (0.0312)\tPrec@1 100.000 (100.000)\tPrec@5 100.000 (100.000)\n",
            "Test: [312/313]\tTime 0.033 (0.085)\tLoss 4.5381 (3.7946)\tPrec@1 25.000 (28.500)\tPrec@5 50.000 (75.070)\n",
            "Epoch: [59][3/4]\tTime 0.136 (0.266)\tData 0.000 (0.109)\tLoss 0.1928 (0.0245)\tPrec@1 100.000 (100.000)\tPrec@5 100.000 (100.000)\n",
            "Test: [312/313]\tTime 0.033 (0.085)\tLoss 4.3966 (3.7838)\tPrec@1 25.000 (28.720)\tPrec@5 56.250 (74.760)\n",
            "Epoch: [60][3/4]\tTime 0.135 (0.261)\tData 0.000 (0.104)\tLoss 0.6102 (0.0340)\tPrec@1 75.000 (99.000)\tPrec@5 100.000 (100.000)\n",
            "Test: [312/313]\tTime 0.033 (0.085)\tLoss 4.6723 (3.8054)\tPrec@1 18.750 (28.020)\tPrec@5 50.000 (74.680)\n",
            "Epoch: [61][3/4]\tTime 0.135 (0.263)\tData 0.000 (0.107)\tLoss 0.0585 (0.0163)\tPrec@1 100.000 (100.000)\tPrec@5 100.000 (100.000)\n",
            "Test: [312/313]\tTime 0.033 (0.084)\tLoss 4.6142 (3.8029)\tPrec@1 18.750 (28.230)\tPrec@5 56.250 (75.000)\n",
            "Epoch: [62][3/4]\tTime 0.136 (0.251)\tData 0.000 (0.095)\tLoss 0.3728 (0.0252)\tPrec@1 75.000 (99.000)\tPrec@5 100.000 (100.000)\n",
            "Test: [312/313]\tTime 0.033 (0.085)\tLoss 4.5843 (3.7801)\tPrec@1 31.250 (27.990)\tPrec@5 50.000 (75.260)\n",
            "Epoch: [63][3/4]\tTime 0.137 (0.259)\tData 0.000 (0.101)\tLoss 0.3530 (0.0258)\tPrec@1 75.000 (99.000)\tPrec@5 100.000 (100.000)\n",
            "Test: [312/313]\tTime 0.033 (0.085)\tLoss 4.4024 (3.7408)\tPrec@1 31.250 (28.450)\tPrec@5 56.250 (75.710)\n",
            "Epoch: [64][3/4]\tTime 0.137 (0.255)\tData 0.000 (0.097)\tLoss 0.0724 (0.0208)\tPrec@1 100.000 (100.000)\tPrec@5 100.000 (100.000)\n",
            "Test: [312/313]\tTime 0.033 (0.084)\tLoss 4.5174 (3.7981)\tPrec@1 31.250 (28.120)\tPrec@5 56.250 (75.420)\n",
            "Epoch: [65][3/4]\tTime 0.134 (0.266)\tData 0.000 (0.110)\tLoss 1.7641 (0.0869)\tPrec@1 50.000 (98.000)\tPrec@5 100.000 (100.000)\n",
            "Test: [312/313]\tTime 0.033 (0.085)\tLoss 4.4842 (3.8002)\tPrec@1 31.250 (27.950)\tPrec@5 62.500 (75.850)\n",
            "Epoch: [66][3/4]\tTime 0.136 (0.255)\tData 0.000 (0.097)\tLoss 0.1932 (0.0288)\tPrec@1 100.000 (100.000)\tPrec@5 100.000 (100.000)\n",
            "Test: [312/313]\tTime 0.033 (0.084)\tLoss 4.4576 (3.7473)\tPrec@1 25.000 (28.040)\tPrec@5 56.250 (75.580)\n",
            "Epoch: [67][3/4]\tTime 0.136 (0.265)\tData 0.000 (0.109)\tLoss 0.1974 (0.0170)\tPrec@1 100.000 (100.000)\tPrec@5 100.000 (100.000)\n",
            "Test: [312/313]\tTime 0.033 (0.085)\tLoss 4.5802 (3.8030)\tPrec@1 31.250 (28.130)\tPrec@5 56.250 (75.330)\n",
            "Epoch: [68][3/4]\tTime 0.135 (0.264)\tData 0.000 (0.108)\tLoss 1.4929 (0.0714)\tPrec@1 25.000 (97.000)\tPrec@5 100.000 (100.000)\n",
            "Test: [312/313]\tTime 0.033 (0.085)\tLoss 4.6466 (3.7951)\tPrec@1 25.000 (27.990)\tPrec@5 56.250 (75.390)\n",
            "Epoch: [69][3/4]\tTime 0.136 (0.270)\tData 0.000 (0.113)\tLoss 0.3282 (0.0277)\tPrec@1 75.000 (99.000)\tPrec@5 100.000 (100.000)\n",
            "Test: [312/313]\tTime 0.033 (0.086)\tLoss 4.4773 (3.7465)\tPrec@1 31.250 (28.400)\tPrec@5 56.250 (75.540)\n",
            "Epoch: [70][3/4]\tTime 0.136 (0.254)\tData 0.000 (0.097)\tLoss 0.2024 (0.0180)\tPrec@1 100.000 (100.000)\tPrec@5 100.000 (100.000)\n",
            "Test: [312/313]\tTime 0.033 (0.085)\tLoss 4.6376 (3.7869)\tPrec@1 31.250 (28.310)\tPrec@5 56.250 (75.180)\n",
            "Epoch: [71][3/4]\tTime 0.137 (0.248)\tData 0.000 (0.096)\tLoss 0.3851 (0.0285)\tPrec@1 75.000 (99.000)\tPrec@5 100.000 (100.000)\n",
            "Test: [312/313]\tTime 0.033 (0.085)\tLoss 4.5482 (3.7908)\tPrec@1 31.250 (28.250)\tPrec@5 56.250 (75.280)\n",
            "Epoch: [72][3/4]\tTime 0.135 (0.261)\tData 0.000 (0.105)\tLoss 0.3252 (0.0219)\tPrec@1 75.000 (99.000)\tPrec@5 100.000 (100.000)\n",
            "Test: [312/313]\tTime 0.033 (0.085)\tLoss 4.7882 (3.8511)\tPrec@1 25.000 (27.890)\tPrec@5 50.000 (75.130)\n",
            "Epoch: [73][3/4]\tTime 0.136 (0.250)\tData 0.000 (0.093)\tLoss 0.2338 (0.0344)\tPrec@1 100.000 (100.000)\tPrec@5 100.000 (100.000)\n",
            "Test: [312/313]\tTime 0.033 (0.085)\tLoss 4.5852 (3.7925)\tPrec@1 31.250 (28.230)\tPrec@5 50.000 (75.320)\n",
            "Epoch: [74][3/4]\tTime 0.134 (0.263)\tData 0.000 (0.106)\tLoss 0.2921 (0.0266)\tPrec@1 100.000 (100.000)\tPrec@5 100.000 (100.000)\n",
            "Test: [312/313]\tTime 0.033 (0.085)\tLoss 4.4661 (3.7782)\tPrec@1 31.250 (28.350)\tPrec@5 56.250 (75.680)\n",
            "Epoch: [75][3/4]\tTime 0.136 (0.254)\tData 0.000 (0.097)\tLoss 0.6418 (0.0437)\tPrec@1 75.000 (99.000)\tPrec@5 100.000 (100.000)\n",
            "Test: [312/313]\tTime 0.033 (0.085)\tLoss 4.7176 (3.8522)\tPrec@1 31.250 (27.870)\tPrec@5 56.250 (75.280)\n",
            "Epoch: [76][3/4]\tTime 0.137 (0.263)\tData 0.000 (0.106)\tLoss 0.2961 (0.0258)\tPrec@1 100.000 (100.000)\tPrec@5 100.000 (100.000)\n",
            "Test: [312/313]\tTime 0.033 (0.085)\tLoss 4.6360 (3.8457)\tPrec@1 31.250 (28.220)\tPrec@5 50.000 (75.570)\n",
            "Epoch: [77][3/4]\tTime 0.134 (0.258)\tData 0.000 (0.101)\tLoss 0.2198 (0.0390)\tPrec@1 100.000 (100.000)\tPrec@5 100.000 (100.000)\n",
            "Test: [312/313]\tTime 0.033 (0.084)\tLoss 4.7218 (3.8733)\tPrec@1 31.250 (27.960)\tPrec@5 50.000 (75.350)\n",
            "Epoch: [78][3/4]\tTime 0.135 (0.263)\tData 0.000 (0.106)\tLoss 0.1210 (0.0168)\tPrec@1 100.000 (100.000)\tPrec@5 100.000 (100.000)\n",
            "Test: [312/313]\tTime 0.033 (0.085)\tLoss 4.5858 (3.8332)\tPrec@1 31.250 (28.230)\tPrec@5 62.500 (75.790)\n",
            "Epoch: [79][3/4]\tTime 0.137 (0.263)\tData 0.000 (0.106)\tLoss 0.1963 (0.0207)\tPrec@1 100.000 (100.000)\tPrec@5 100.000 (100.000)\n"
          ],
          "name": "stdout"
        }
      ]
    },
    {
      "metadata": {
        "id": "lBfI0sebmby2",
        "colab_type": "text"
      },
      "cell_type": "markdown",
      "source": [
        "| Model | Number of  epochs  | Train accuracy | Test accuracy |\n",
        "|------|------|------|------|\n",
        "|   resnet18 pretrained  | 10 | 35% | 15% |\n"
      ]
    },
    {
      "metadata": {
        "colab_type": "text",
        "id": "2E-H4owPLySX"
      },
      "cell_type": "markdown",
      "source": [
        "## DCGan features"
      ]
    },
    {
      "metadata": {
        "colab_type": "text",
        "id": "mZdIQK-PLySZ"
      },
      "cell_type": "markdown",
      "source": [
        "GANs correspond to an unsupervised technique for generating images. In https://arxiv.org/pdf/1511.06434.pdf, Sec. 5.1 shows that the representation obtained from the Discriminator has some nice generalization properties on CIFAR10."
      ]
    },
    {
      "metadata": {
        "colab_type": "text",
        "id": "_O3oPSXFLySb"
      },
      "cell_type": "markdown",
      "source": [
        "__Question 6:__  Using for instance a pretrained model from https://github.com/soumith/dcgan.torch combined with https://github.com/pytorch/examples/tree/master/dcgan, propose a model to train on $\\mathcal{X}_{\\text{train}}$. Train it and report its accuracy.\n",
        "\n",
        "*Hint:* You can use the library: https://github.com/bshillingford/python-torchfile to load the weights of a model from torch(Lua) to pytorch(python)."
      ]
    },
    {
      "metadata": {
        "colab_type": "code",
        "id": "CHuL_Q9ELySc",
        "colab": {}
      },
      "cell_type": "code",
      "source": [
        ""
      ],
      "execution_count": 0,
      "outputs": []
    },
    {
      "metadata": {
        "colab_type": "text",
        "id": "uydU5kt6LySf"
      },
      "cell_type": "markdown",
      "source": [
        "# Incorporating *a priori*\n",
        "Geometrical *a priori* are appealing for image classification tasks. For now, we only consider linear transformations $\\mathcal{T}$ of the inputs $x:\\mathbb{S}^2\\rightarrow\\mathbb{R}$ where $\\mathbb{S}$ is the support of an image, meaning that:\n",
        "\n",
        "$$\\forall u\\in\\mathbb{S}^2,\\mathcal{T}(\\lambda x+\\mu y)(u)=\\lambda \\mathcal{T}(x)(u)+\\mu \\mathcal{T}(y)(u)\\,.$$\n",
        "\n",
        "For instance if an image had an infinite support, a translation $\\mathcal{T}_a$ by $a$ would lead to:\n",
        "\n",
        "$$\\forall u, \\mathcal{T}_a(x)(u)=x(u-a)\\,.$$\n",
        "\n",
        "Otherwise, one has to handle several boundary effects.\n",
        "\n",
        "__Question 7:__ Explain the issues when dealing with translations, rotations, scaling effects, color changes on $32\\times32$ images. Propose several ideas to tackle them."
      ]
    },
    {
      "metadata": {
        "colab_type": "text",
        "id": "489zmX-DLySg"
      },
      "cell_type": "markdown",
      "source": [
        "> 32*32 images indeed is a tiny resolution. Humans can still recognize which label to put on these images, then machines should be able to do so. Rotations of 90° would be a piece of cake as we have squared images. When we come to scaling, translation or non-square rotation, we will face the big issue of lack of pixel. \n",
        "\n",
        "> When performing a non-square rotation,  we will have to zoom into the image in order not to have dark spots on the corners, but with that few pexels, we may reconstruct non recognizable images. Zooming is not everything, we will have to resize the image into 32*32 dimension, using interpolation. We will have to duplicate pixels and facing an even bigger pixelisation.\n",
        "\n",
        "> To adress such problem, we can apply gaussian filters to our images in order to smooth the low resolution. We could also try to refine the image quality using GANs\n",
        "\n"
      ]
    },
    {
      "metadata": {
        "id": "VjhAhQAOlQuE",
        "colab_type": "code",
        "colab": {}
      },
      "cell_type": "code",
      "source": [
        "from scipy.ndimage import rotate\n",
        "import cv2\n",
        "\n",
        "im_test = X_train[1]\n",
        "\n",
        "plt.figure(num=None, figsize=(15, 10), dpi=80, facecolor='w', edgecolor='k')\n",
        "plt.subplots_adjust(wspace=0.2, hspace=0.5)\n",
        "\n",
        "plt.subplot(1, 3, 1)\n",
        "plt.axis(\"off\")\n",
        "plt.title(\"test original\")\n",
        "plt.imshow(im_test)\n",
        "\n",
        "plt.subplot(1, 3, 2)\n",
        "plt.axis(\"off\")\n",
        "plt.title(\"test rotate 30°\")\n",
        "rotated = rotate(im_test, angle=45, reshape=True)\n",
        "plt.imshow(rotated)\n",
        "\n",
        "plt.subplot(1, 3, 3)\n",
        "plt.axis(\"off\")\n",
        "plt.title(\"test rotate and no black border\")\n",
        "crop_value=12\n",
        "rotate_crop = rotated[crop_value:-crop_value, crop_value:-crop_value]\n",
        "\n",
        "rotate_crop = cv2.resize(rotate_crop, dsize=(32, 32), interpolation=cv2.INTER_CUBIC)\n",
        "plt.imshow(rotate_crop)\n"
      ],
      "execution_count": 0,
      "outputs": []
    },
    {
      "metadata": {
        "colab_type": "text",
        "id": "sOY-eddZLySg"
      },
      "cell_type": "markdown",
      "source": [
        "## Data augmentations"
      ]
    },
    {
      "metadata": {
        "colab_type": "text",
        "id": "I0pNAt9lLySh"
      },
      "cell_type": "markdown",
      "source": [
        "__Question 8:__ Propose a set of geometric transformation beyond translation, and incorporate them in your training pipeline. Train the model of the __Question 3__ and __Question 4__ with them and report the accuracies."
      ]
    },
    {
      "metadata": {
        "colab_type": "code",
        "id": "wNhwJCgELySi",
        "colab": {}
      },
      "cell_type": "code",
      "source": [
        "# Hyperparameters\n",
        "args = Args(\n",
        "        arch=\"resnet18\", \n",
        "        workers=4, \n",
        "        epochs=30, \n",
        "        start_epoch=0, \n",
        "        batch_size=32, \n",
        "        lr=0.001, \n",
        "        momentum=0.9, \n",
        "        weight_decay=1e-4, \n",
        "        print_freq=1000, \n",
        "        resume=\"\", \n",
        "        evaluate=False, \n",
        "        pretrained=False,\n",
        "        early_stopping=True\n",
        ")\n",
        "\n",
        "# Transformation definition\n",
        "transf = transforms.Compose(\n",
        "    [transforms.ToPILImage(),\n",
        "     transforms.CenterCrop(224),\n",
        "     transforms.RandomHorizontalFlip(),\n",
        "     transforms.RandomAffine(degrees=45, translate=(0.2, 0.2), scale=(0.8, 1.2)),\n",
        "     transforms.RandomVerticalFlip(),\n",
        "     transforms.ToTensor(),\n",
        "     normalize\n",
        "    ])\n",
        "\n",
        "\n",
        "classifier4 = Classifier(args, transf)\n",
        "classifier4.run_training()\n",
        "classifier4.plot_results()\n"
      ],
      "execution_count": 0,
      "outputs": []
    },
    {
      "metadata": {
        "id": "f9AxI0CDmnbX",
        "colab_type": "text"
      },
      "cell_type": "markdown",
      "source": [
        "| Model | Number of  epochs  | Train accuracy | Test accuracy |\n",
        "|------|------|------|------|\n",
        "|   resnet18  | 20 | 23% | 16% |\n"
      ]
    },
    {
      "metadata": {
        "id": "pY0KrS81xtCj",
        "colab_type": "code",
        "colab": {}
      },
      "cell_type": "code",
      "source": [
        "# Hyperparameters\n",
        "args = Args(\n",
        "        arch=\"vgg11\", \n",
        "        workers=4, \n",
        "        epochs=20, \n",
        "        start_epoch=0, \n",
        "        batch_size=32, \n",
        "        lr=0.01, \n",
        "        momentum=0.9, \n",
        "        weight_decay=1e-4, \n",
        "        print_freq=1000, \n",
        "        resume=\"\", \n",
        "        evaluate=False, \n",
        "        pretrained=False,\n",
        "        early_stopping=True\n",
        ")\n",
        "\n",
        "classifier5 = Classifier(args, transf)\n",
        "classifier5.run_training()\n",
        "classifier5.plot_results()"
      ],
      "execution_count": 0,
      "outputs": []
    },
    {
      "metadata": {
        "id": "2OjWFruWAUKv",
        "colab_type": "text"
      },
      "cell_type": "markdown",
      "source": [
        "| Model | Number of  epochs  | Train accuracy | Test accuracy |\n",
        "|------|------|------|------|\n",
        "|   vgg11  | 10 | 16% | 10% |\n"
      ]
    },
    {
      "metadata": {
        "colab_type": "text",
        "id": "XibVw8EPLySk"
      },
      "cell_type": "markdown",
      "source": [
        "## Wavelets\n",
        "\n",
        "__Question 9:__ Use a Scattering Transform as an input to a ResNet-like architecture. You can find a baseline here: https://arxiv.org/pdf/1703.08961.pdf.\n",
        "\n",
        "*Hint:* You can use the following package: https://www.kymat.io/"
      ]
    },
    {
      "metadata": {
        "id": "IzUSsrJB0DmS",
        "colab_type": "code",
        "colab": {}
      },
      "cell_type": "code",
      "source": [
        "!pip install kymatio"
      ],
      "execution_count": 0,
      "outputs": []
    },
    {
      "metadata": {
        "id": "W6LGVzXkyGmZ",
        "colab_type": "code",
        "colab": {}
      },
      "cell_type": "code",
      "source": [
        "from kymatio import Scattering2D\n",
        "\n",
        "# Hyperparameters\n",
        "args = Args(\n",
        "        arch=\"resnet18\", \n",
        "        workers=4, \n",
        "        epochs=10, \n",
        "        start_epoch=0, \n",
        "        batch_size=10, \n",
        "        lr=0.01, \n",
        "        momentum=0.9, \n",
        "        weight_decay=1e-4, \n",
        "        print_freq=1000, \n",
        "        resume=\"\", \n",
        "        evaluate=False, \n",
        "        pretrained=False\n",
        ")\n",
        "\n",
        "transf = transforms.Compose(\n",
        "    [\n",
        "        Scattering2D(J=2, shape=(32, 32)),\n",
        "        transforms.ToPILImage(),\n",
        "        transforms.ToTensor(),\n",
        "        normalize\n",
        "    ])\n",
        "\n",
        "classifier6 = Classifier(args, transf)\n",
        "classifier6.run_training()\n",
        "classifier6.plot_results()"
      ],
      "execution_count": 0,
      "outputs": []
    },
    {
      "metadata": {
        "colab_type": "text",
        "id": "JoIJZon2LySl"
      },
      "cell_type": "markdown",
      "source": [
        "# Weak supervision"
      ]
    },
    {
      "metadata": {
        "colab_type": "text",
        "id": "Kuc6HTaCLySn"
      },
      "cell_type": "markdown",
      "source": [
        "Weakly supervised techniques permit to tackle the issue of labeled data. An introduction to those techniques can be found here: https://hazyresearch.github.io/snorkel/blog/ws_blog_post.html.\n",
        "\n",
        "__(Open) Question 10:__ Pick a weakly supervised method that will potentially use $\\mathcal{X}\\cup\\mathcal{X}_{\\text{train}}$ to train a representation (a subset of $\\mathcal{X}$ is also fine). Evaluate it and report the accuracies. You should be careful in the choice of your method, in order to avoid heavy computational effort."
      ]
    },
    {
      "metadata": {
        "colab_type": "text",
        "id": "i9BIQ5THLySo"
      },
      "cell_type": "markdown",
      "source": [
        "# Conclusions"
      ]
    },
    {
      "metadata": {
        "colab_type": "text",
        "id": "12R2IhoKLySq"
      },
      "cell_type": "markdown",
      "source": [
        "__Question 11:__ Write a short report explaining the pros and the cons of each methods that you implemented. 25% of the grade of this project will correspond to this question, thus, it should be done carefully. In particular, please add a plot that will summarize all your numerical results."
      ]
    },
    {
      "metadata": {
        "colab_type": "text",
        "id": "dJLUmc4lLySr"
      },
      "cell_type": "markdown",
      "source": [
        "Note : All plots have been done step-by-step in the jupyter notebook.\n",
        "\n",
        "- Models can have different behaviours during the traning. For instance, in the first resnet18 training, we may have converged more quickly, but as we can see in the plots, the resnet18 validation loss decrease to almost 2 but then increase again as we start to overfit. The vgg11 validation loss continue to decrease. We can play with a lot of models to find the best ones that fit to our needs, but we may also look at the original dataset and choose the pretrained model as it is closer to our own dataset.\n",
        "\n",
        "- Data augmentation is quite helpful to the model precision and to prevent overfitting as we have saw when running again resnet18 with an augmented dataset in question8. Indeed, in the futur when I will face such problems with low data available, I do know I will have to use data augmentation to try to obtain better results. Data augmentation can have many ways, from rotational to translational passing by random cropping.\n",
        "\n",
        "- Data preprocessing can also help the model performance and reduce the biases in the data: the gaussian filter can help us in this objecive as we try to reduce the impact of the size changing. \n",
        "\n",
        "- It appears that pretrained models is the most important asset we can use when facing low-quantity datasets. We converge faster, and better than randomly assigned weights. This also is computational-time efficient as we just have to fine tuned our weights to our dataset. Still, we have to keep in mind that such models have to be quite close to the data we will use, and models trained on cats and dogs may ne be optimal to recognize brain waves linked to epilepsia for instance. Also, such tools doesn't prevent to use the previous ones, such as data augmentation or preprocessing."
      ]
    },
    {
      "metadata": {
        "id": "3tBRxWY77YVm",
        "colab_type": "code",
        "colab": {}
      },
      "cell_type": "code",
      "source": [
        ""
      ],
      "execution_count": 0,
      "outputs": []
    }
  ]
}