{
  "nbformat": 4,
  "nbformat_minor": 0,
  "metadata": {
    "colab": {
      "name": "3-TD_ADL.ipynb",
      "version": "0.3.2",
      "provenance": []
    },
    "kernelspec": {
      "name": "python3",
      "display_name": "Python 3"
    },
    "accelerator": "GPU"
  },
  "cells": [
    {
      "metadata": {
        "colab_type": "text",
        "id": "zeJhO9RPLyRZ"
      },
      "cell_type": "markdown",
      "source": [
        "# Small data and deep learning\n",
        "This mini-project proposes to study several techniques for improving challenging context, in which few data and resources are available."
      ]
    },
    {
      "metadata": {
        "colab_type": "code",
        "id": "7H2lhj6gLyRU",
        "colab": {}
      },
      "cell_type": "code",
      "source": [
        "%matplotlib inline"
      ],
      "execution_count": 0,
      "outputs": []
    },
    {
      "metadata": {
        "colab_type": "text",
        "id": "q-ZDU0bjLyRa"
      },
      "cell_type": "markdown",
      "source": [
        "# Introduction\n",
        "Assume we are in a context where few \"gold\" labeled data are available for training, say $\\mathcal{X}_{\\text{train}}\\triangleq\\{(x_n,y_n)\\}_{n\\leq N_{\\text{train}}}$, where $N_{\\text{train}}$ is small. A large test set $\\mathcal{X}_{\\text{test}}$ is available. A large amount of unlabeled data, $\\mathcal{X}$, is available. We also assume that we have a limited computational budget (e.g., no GPUs).\n",
        "\n",
        "For each question, write a commented *Code* or a complete answer as a *Markdown*. When the objective of a question is to report a CNN accuracy, please use the following format to report it, at the end of the question:\n",
        "\n",
        "| Model | Number of  epochs  | Train accuracy | Test accuracy |\n",
        "|------|------|------|------|\n",
        "|   XXX  | XXX | XXX | XXX |\n",
        "\n",
        "If applicable, please add the field corresponding to the  __Accuracy on Full Data__ as well as a link to the __Reference paper__ you used to report those numbers. (You do not need to train a CNN on the full CIFAR10 dataset)\n",
        "\n",
        "In your final report, please keep the logs of each training procedure you used. We will only run this jupyter if we have some doubts on your implementation. \n",
        "\n",
        "__The total file sizes should not exceed 2MB. Please name your notebook (LASTNAME)\\_(FIRSTNAME).ipynb, zip/tar it with any necessary files required to run your notebook, in a compressed file named (LASTNAME)\\_(FIRSTNAME).X where X is the corresponding extension. Zip/tar files exceeding 2MB will not be considered for grading. Submit the compressed file via the submission link provided on the website of the class.__\n",
        "\n",
        "You can use https://colab.research.google.com/ to run your experiments."
      ]
    },
    {
      "metadata": {
        "colab_type": "text",
        "id": "b60U5du3LyRb"
      },
      "cell_type": "markdown",
      "source": [
        "## Training set creation\n",
        "__Question 1:__ Propose a dataloader or modify the file located at https://github.com/pytorch/vision/blob/master/torchvision/datasets/cifar.py in order to obtain a training loader that will only use the first 100 samples of the CIFAR-10 training set. "
      ]
    },
    {
      "metadata": {
        "colab_type": "text",
        "id": "gk5ETsCyLyRc"
      },
      "cell_type": "markdown",
      "source": [
        "### Dependencies"
      ]
    },
    {
      "metadata": {
        "colab_type": "code",
        "id": "mAGYF_H3LyRd",
        "colab": {}
      },
      "cell_type": "code",
      "source": [
        "import matplotlib.pyplot as plt"
      ],
      "execution_count": 0,
      "outputs": []
    },
    {
      "metadata": {
        "colab_type": "text",
        "id": "nQmCidX2LyRg"
      },
      "cell_type": "markdown",
      "source": [
        "### Import downloader behaviours"
      ]
    },
    {
      "metadata": {
        "colab_type": "code",
        "id": "liXruxpqLyRh",
        "colab": {}
      },
      "cell_type": "code",
      "source": [
        "from PIL import Image\n",
        "import os\n",
        "import os.path\n",
        "import numpy as np\n",
        "import sys\n",
        "if sys.version_info[0] == 2:\n",
        "    import cPickle as pickle\n",
        "else:\n",
        "    import pickle\n",
        "\n",
        "import torch.utils.data as data\n",
        "\n",
        "import os\n",
        "import os.path\n",
        "import hashlib\n",
        "import errno\n",
        "from torch.utils.model_zoo import tqdm\n",
        "\n",
        "## UTILS FUNCTION from https://github.com/pytorch/vision/blob/master/torchvision/datasets/utils.py\n",
        "\n",
        "def check_integrity(fpath, md5=None):\n",
        "    if md5 is None:\n",
        "        return True\n",
        "    if not os.path.isfile(fpath):\n",
        "        return False\n",
        "    md5o = hashlib.md5()\n",
        "    with open(fpath, 'rb') as f:\n",
        "        # read in 1MB chunks\n",
        "        for chunk in iter(lambda: f.read(1024 * 1024), b''):\n",
        "            md5o.update(chunk)\n",
        "    md5c = md5o.hexdigest()\n",
        "    if md5c != md5:\n",
        "        return False\n",
        "    return True\n",
        "\n",
        "\n",
        "def download_url(url, root, filename=None, md5=None):\n",
        "    \"\"\"Download a file from a url and place it in root.\n",
        "    Args:\n",
        "        url (str): URL to download file from\n",
        "        root (str): Directory to place downloaded file in\n",
        "        filename (str, optional): Name to save the file under. If None, use the basename of the URL\n",
        "        md5 (str, optional): MD5 checksum of the download. If None, do not check\n",
        "    \"\"\"\n",
        "    from six.moves import urllib\n",
        "\n",
        "    root = os.path.expanduser(root)\n",
        "    if not filename:\n",
        "        filename = os.path.basename(url)\n",
        "    fpath = os.path.join(root, filename)\n",
        "\n",
        "    makedir_exist_ok(root)\n",
        "\n",
        "    # downloads file\n",
        "    if os.path.isfile(fpath) and check_integrity(fpath, md5):\n",
        "        print('Using downloaded and verified file: ' + fpath)\n",
        "    else:\n",
        "        try:\n",
        "            print('Downloading ' + url + ' to ' + fpath)\n",
        "            urllib.request.urlretrieve(\n",
        "                url, fpath,\n",
        "                reporthook=gen_bar_updater()\n",
        "            )\n",
        "        except OSError:\n",
        "            if url[:5] == 'https':\n",
        "                url = url.replace('https:', 'http:')\n",
        "                print('Failed download. Trying https -> http instead.'\n",
        "                      ' Downloading ' + url + ' to ' + fpath)\n",
        "                urllib.request.urlretrieve(\n",
        "                    url, fpath,\n",
        "                    reporthook=gen_bar_updater()\n",
        "                )\n",
        "\n",
        "def makedir_exist_ok(dirpath):\n",
        "    \"\"\"\n",
        "    Python2 support for os.makedirs(.., exist_ok=True)\n",
        "    \"\"\"\n",
        "    try:\n",
        "        os.makedirs(dirpath)\n",
        "    except OSError as e:\n",
        "        if e.errno == errno.EEXIST:\n",
        "            pass\n",
        "        else:\n",
        "            raise\n",
        "            \n",
        "def gen_bar_updater():\n",
        "    pbar = tqdm(total=None)\n",
        "\n",
        "    def bar_update(count, block_size, total_size):\n",
        "        if pbar.total is None and total_size:\n",
        "            pbar.total = total_size\n",
        "        progress_bytes = count * block_size\n",
        "        pbar.update(progress_bytes - pbar.n)\n",
        "\n",
        "    return bar_update\n",
        "\n",
        "## CIFAR DATASET DOWNLOADER from https://github.com/pytorch/vision/blob/master/torchvision/datasets/cifar.py\n",
        "    \n",
        "class CIFAR10(data.Dataset):\n",
        "    \"\"\"`CIFAR10 <https://www.cs.toronto.edu/~kriz/cifar.html>`_ Dataset.\n",
        "    Args:\n",
        "        root (string): Root directory of dataset where directory\n",
        "            ``cifar-10-batches-py`` exists or will be saved to if download is set to True.\n",
        "        train (bool, optional): If True, creates dataset from training set, otherwise\n",
        "            creates from test set.\n",
        "        transform (callable, optional): A function/transform that takes in an PIL image\n",
        "            and returns a transformed version. E.g, ``transforms.RandomCrop``\n",
        "        target_transform (callable, optional): A function/transform that takes in the\n",
        "            target and transforms it.\n",
        "        download (bool, optional): If true, downloads the dataset from the internet and\n",
        "            puts it in root directory. If dataset is already downloaded, it is not\n",
        "            downloaded again.\n",
        "    \"\"\"\n",
        "    base_folder = 'cifar-10-batches-py'\n",
        "    url = \"https://www.cs.toronto.edu/~kriz/cifar-10-python.tar.gz\"\n",
        "    filename = \"cifar-10-python.tar.gz\"\n",
        "    tgz_md5 = 'c58f30108f718f92721af3b95e74349a'\n",
        "    train_list = [\n",
        "        ['data_batch_1', 'c99cafc152244af753f735de768cd75f'],\n",
        "        ['data_batch_2', 'd4bba439e000b95fd0a9bffe97cbabec'],\n",
        "        ['data_batch_3', '54ebc095f3ab1f0389bbae665268c751'],\n",
        "        ['data_batch_4', '634d18415352ddfa80567beed471001a'],\n",
        "        ['data_batch_5', '482c414d41f54cd18b22e5b47cb7c3cb'],\n",
        "    ]\n",
        "\n",
        "    test_list = [\n",
        "        ['test_batch', '40351d587109b95175f43aff81a1287e'],\n",
        "    ]\n",
        "    meta = {\n",
        "        'filename': 'batches.meta',\n",
        "        'key': 'label_names',\n",
        "        'md5': '5ff9c542aee3614f3951f8cda6e48888',\n",
        "    }\n",
        "\n",
        "    def __init__(self, root, train=True,\n",
        "                 transform=None, target_transform=None,\n",
        "                 download=False):\n",
        "        self.root = os.path.expanduser(root)\n",
        "        self.transform = transform\n",
        "        self.target_transform = target_transform\n",
        "        self.train = train  # training set or test set\n",
        "\n",
        "        if download:\n",
        "            self.download()\n",
        "\n",
        "        if not self._check_integrity():\n",
        "            raise RuntimeError('Dataset not found or corrupted.' +\n",
        "                               ' You can use download=True to download it')\n",
        "\n",
        "        if self.train:\n",
        "            downloaded_list = self.train_list\n",
        "        else:\n",
        "            downloaded_list = self.test_list\n",
        "\n",
        "        self.data = []\n",
        "        self.targets = []\n",
        "\n",
        "        # now load the picked numpy arrays\n",
        "        for file_name, checksum in downloaded_list:\n",
        "            file_path = os.path.join(self.root, self.base_folder, file_name)\n",
        "            with open(file_path, 'rb') as f:\n",
        "                if sys.version_info[0] == 2:\n",
        "                    entry = pickle.load(f)\n",
        "                else:\n",
        "                    entry = pickle.load(f, encoding='latin1')\n",
        "                self.data.append(entry['data'])\n",
        "                if 'labels' in entry:\n",
        "                    self.targets.extend(entry['labels'])\n",
        "                else:\n",
        "                    self.targets.extend(entry['fine_labels'])\n",
        "\n",
        "        self.data = np.vstack(self.data).reshape(-1, 3, 32, 32)\n",
        "        self.data = self.data.transpose((0, 2, 3, 1))  # convert to HWC\n",
        "\n",
        "        self._load_meta()\n",
        "\n",
        "    def _load_meta(self):\n",
        "        path = os.path.join(self.root, self.base_folder, self.meta['filename'])\n",
        "        if not check_integrity(path, self.meta['md5']):\n",
        "            raise RuntimeError('Dataset metadata file not found or corrupted.' +\n",
        "                               ' You can use download=True to download it')\n",
        "        with open(path, 'rb') as infile:\n",
        "            if sys.version_info[0] == 2:\n",
        "                data = pickle.load(infile)\n",
        "            else:\n",
        "                data = pickle.load(infile, encoding='latin1')\n",
        "            self.classes = data[self.meta['key']]\n",
        "        self.class_to_idx = {_class: i for i, _class in enumerate(self.classes)}\n",
        "\n",
        "    def __getitem__(self, index):\n",
        "        \"\"\"\n",
        "        Args:\n",
        "            index (int): Index\n",
        "        Returns:\n",
        "            tuple: (image, target) where target is index of the target class.\n",
        "        \"\"\"\n",
        "        img, target = self.data[index], self.targets[index]\n",
        "\n",
        "        # doing this so that it is consistent with all other datasets\n",
        "        # to return a PIL Image\n",
        "        img = Image.fromarray(img)\n",
        "\n",
        "        if self.transform is not None:\n",
        "            img = self.transform(img)\n",
        "\n",
        "        if self.target_transform is not None:\n",
        "            target = self.target_transform(target)\n",
        "\n",
        "        return img, target\n",
        "\n",
        "    def __len__(self):\n",
        "        return len(self.data)\n",
        "\n",
        "    def _check_integrity(self):\n",
        "        root = self.root\n",
        "        for fentry in (self.train_list + self.test_list):\n",
        "            filename, md5 = fentry[0], fentry[1]\n",
        "            fpath = os.path.join(root, self.base_folder, filename)\n",
        "            if not check_integrity(fpath, md5):\n",
        "                return False\n",
        "        return True\n",
        "\n",
        "    def download(self):\n",
        "        import tarfile\n",
        "\n",
        "        if self._check_integrity():\n",
        "            print('Files already downloaded and verified')\n",
        "            return\n",
        "\n",
        "        download_url(self.url, self.root, self.filename, self.tgz_md5)\n",
        "\n",
        "        # extract file\n",
        "        with tarfile.open(os.path.join(self.root, self.filename), \"r:gz\") as tar:\n",
        "            tar.extractall(path=self.root)\n",
        "\n",
        "    def __repr__(self):\n",
        "        fmt_str = 'Dataset ' + self.__class__.__name__ + '\\n'\n",
        "        fmt_str += '    Number of datapoints: {}\\n'.format(self.__len__())\n",
        "        tmp = 'train' if self.train is True else 'test'\n",
        "        fmt_str += '    Split: {}\\n'.format(tmp)\n",
        "        fmt_str += '    Root Location: {}\\n'.format(self.root)\n",
        "        tmp = '    Transforms (if any): '\n",
        "        fmt_str += '{0}{1}\\n'.format(tmp, self.transform.__repr__().replace('\\n', '\\n' + ' ' * len(tmp)))\n",
        "        tmp = '    Target Transforms (if any): '\n",
        "        fmt_str += '{0}{1}'.format(tmp, self.target_transform.__repr__().replace('\\n', '\\n' + ' ' * len(tmp)))\n",
        "        return fmt_str\n",
        "\n",
        "\n",
        "class CIFAR100(CIFAR10):\n",
        "    \"\"\"`CIFAR100 <https://www.cs.toronto.edu/~kriz/cifar.html>`_ Dataset.\n",
        "    This is a subclass of the `CIFAR10` Dataset.\n",
        "    \"\"\"\n",
        "    base_folder = 'cifar-100-python'\n",
        "    url = \"https://www.cs.toronto.edu/~kriz/cifar-100-python.tar.gz\"\n",
        "    filename = \"cifar-100-python.tar.gz\"\n",
        "    tgz_md5 = 'eb9058c3a382ffc7106e4002c42a8d85'\n",
        "    train_list = [\n",
        "        ['train', '16019d7e3df5f24257cddd939b257f8d'],\n",
        "    ]\n",
        "\n",
        "    test_list = [\n",
        "        ['test', 'f0ef6b0ae62326f3e7ffdfab6717acfc'],\n",
        "    ]\n",
        "    meta = {\n",
        "        'filename': 'meta',\n",
        "        'key': 'fine_label_names',\n",
        "        'md5': '7973b15100ade9c7d40fb424638fde48',\n",
        "    }"
      ],
      "execution_count": 0,
      "outputs": []
    },
    {
      "metadata": {
        "colab_type": "text",
        "id": "uJqbeSk7LyRk"
      },
      "cell_type": "markdown",
      "source": [
        "### Run test downloading"
      ]
    },
    {
      "metadata": {
        "colab_type": "code",
        "id": "FVl9FQvyLyRl",
        "colab": {}
      },
      "cell_type": "code",
      "source": [
        "DATASET_PATH = \"dataset\"\n",
        "TRAIN_BATCH_PATH = \"/\".join([DATASET_PATH, \"cifar-10-batches-py\", \"data_batch_1\"])\n",
        "TEST_BATCH_PATH = \"/\".join([DATASET_PATH, \"cifar-10-batches-py\", \"test_batch\"])\n"
      ],
      "execution_count": 0,
      "outputs": []
    },
    {
      "metadata": {
        "colab_type": "code",
        "id": "twjlIeo8LyRn",
        "colab": {}
      },
      "cell_type": "code",
      "source": [
        "print(\"Download train dataset\")\n",
        "downloader_train = CIFAR10(root=DATASET_PATH, train=True, transform=None, target_transform=None, download=True)\n"
      ],
      "execution_count": 0,
      "outputs": []
    },
    {
      "metadata": {
        "colab_type": "text",
        "id": "ZXmv8_CGLyRq"
      },
      "cell_type": "markdown",
      "source": [
        "### Unpack the dataset"
      ]
    },
    {
      "metadata": {
        "colab_type": "code",
        "id": "9uBc3Zi4LyRr",
        "colab": {}
      },
      "cell_type": "code",
      "source": [
        "def unpickle(file):\n",
        "    import pickle\n",
        "    with open(file, 'rb') as fo:\n",
        "        dict = pickle.load(fo, encoding='bytes')\n",
        "    return dict\n",
        "\n",
        "train_data_dict = unpickle(TRAIN_BATCH_PATH)\n",
        "test_data_dict = unpickle(TEST_BATCH_PATH)"
      ],
      "execution_count": 0,
      "outputs": []
    },
    {
      "metadata": {
        "colab_type": "code",
        "id": "8q1Jg_9SLyRv",
        "colab": {}
      },
      "cell_type": "code",
      "source": [
        "def custom_dataset_process(data_dict, n_start = 0, n_end=None):\n",
        "    \"\"\" Load the CIFAR10 data as intended for this project\n",
        "    :param data_dict: dict, dictionnary generated by the unpickle function\n",
        "    :param n_start: integer, default=None, index value of the first elements to take\n",
        "    :param n_end: integer, default=None, index value of the last elements to take\n",
        "    :return x: np.array, data array with shape n*32*32*3, with n number of images, of shape 32*32 in 3 colors\"\"\"\n",
        "    \n",
        "    labels = data_dict[b\"labels\"][n_start:n_end]\n",
        "    data = data_dict[b\"data\"][n_start:n_end]\n",
        "        \n",
        "    les_im = np.array(data)\n",
        "    les_im_reshape = []\n",
        "    for id_im, im in enumerate(les_im):\n",
        "        im_reshape = np.rot90(im.reshape((32, 32, 3), order=\"F\"), k=3)\n",
        "        les_im_reshape.append(im_reshape)\n",
        "    \n",
        "    les_im_reshape = np.array(les_im_reshape)\n",
        "    return les_im_reshape, labels\n",
        "\n",
        "X_train, X_train_labels = custom_dataset_process(train_data_dict, n_start=0, n_end=100)\n",
        "X_left, X_left_labels = custom_dataset_process(train_data_dict, n_start=100, n_end=None)\n",
        "X_test, X_test_labels = custom_dataset_process(test_data_dict)\n",
        "\n",
        "def show_dataset():\n",
        "    to_show = [[\"X_train\", X_train], [\"X_left\", X_left], [\"X_test\", X_test]]\n",
        "    for i, X in enumerate(to_show):\n",
        "        \n",
        "        print(X[0], \"shape\", X[1].shape)\n",
        "        plt.subplot(1, len(to_show), i+1)\n",
        "        plt.axis('off')\n",
        "        plt.tight_layout()\n",
        "        plt.imshow(X[1][1])\n",
        "\n",
        "show_dataset()"
      ],
      "execution_count": 0,
      "outputs": []
    },
    {
      "metadata": {
        "colab_type": "text",
        "id": "P8siNgFNLyRz"
      },
      "cell_type": "markdown",
      "source": [
        "This is our dataset $\\mathcal{X}_{\\text{train}}$, it will be used until the end of this project. The remaining samples correspond to $\\mathcal{X}$. The testing set $\\mathcal{X}_{\\text{test}}$ corresponds to the whole testing set of CIFAR-10."
      ]
    },
    {
      "metadata": {
        "colab_type": "text",
        "id": "PXn5rOGkLyR3"
      },
      "cell_type": "markdown",
      "source": [
        "## Testing procedure\n",
        "__Question 2:__ Explain why the evaluation of the training procedure is difficult. Propose several solutions."
      ]
    },
    {
      "metadata": {
        "colab_type": "text",
        "id": "0o251Kz8LyR4"
      },
      "cell_type": "markdown",
      "source": [
        "Evaluation of the training procedure may be difficult because of the low number of labeled data we are using for the model training. We may have quite a hard time resolving overfitting problems: we have few gold data.\n",
        "\n",
        "As seen in the class, solutions exists:\n",
        "- We can use semi-supervized learning to try to make guesses about unlabeled train data\n",
        "- Use transfer learning, and just fine-tune our model without the need of a huge great dataset\n",
        "- Weak supervision or traditional supervision are also existing solutions, but we will not use them as they involve to ask for a new labelling round, even at higher/abstract level."
      ]
    },
    {
      "metadata": {
        "colab_type": "text",
        "id": "Tp4Hh9BoLyR5"
      },
      "cell_type": "markdown",
      "source": [
        "# Raw approach: the baseline"
      ]
    },
    {
      "metadata": {
        "colab_type": "text",
        "id": "jsyOxEtxLyR6"
      },
      "cell_type": "markdown",
      "source": [
        "In this section, the goal is to train a CNN on $\\mathcal{X}_{\\text{train}}$ and compare its performances with reported number from the litterature. You will have to re-use and/or design a standard classification pipeline. You should optimize your pipeline to obtain the best performances (image size, data augmentation by flip, ...).\n",
        "\n",
        "The key ingredients for training a CNN are the batch size, as well as the learning rate schedule, i.e. how to decrease the learning rate as a function of the number of epochs. A possible schedule is to start the learning rate at 0.1 and decreasing it every 30 epochs by 10. In case of divergence, reduce the laerning rate. A potential batch size could be 10, yet this can be cross-validated.\n",
        "\n",
        "You can get some baselines accuracies in this paper: http://openaccess.thecvf.com/content_cvpr_2018/papers/Keshari_Learning_Structure_and_CVPR_2018_paper.pdf. Obviously, it is a different context, as those researchers had access to GPUs."
      ]
    },
    {
      "metadata": {
        "colab_type": "text",
        "id": "z-C45ofQLyR7"
      },
      "cell_type": "markdown",
      "source": [
        "## ResNet architectures"
      ]
    },
    {
      "metadata": {
        "colab_type": "text",
        "id": "Tv78YLvaLyR8"
      },
      "cell_type": "markdown",
      "source": [
        "__Question 3:__ Write a classification pipeline for $\\mathcal{X}_{\\text{train}}$, train from scratch and evaluate a *ResNet-18* architecture specific to CIFAR10 (details about the ImageNet model can be found here: https://arxiv.org/abs/1409.1556 ). If possible, please report the accuracy obtained on the whole dataset, as well as the reference paper/GitHub link you might have used.\n",
        "\n",
        "*Hint:* You can re-use the following code: https://github.com/kuangliu/pytorch-cifar. During a training of 10 epochs, a batch size of 10 and a learning rate of 0.01, one obtains 40% accuracy on $\\mathcal{X}_{\\text{train}}$ (~2 minutes) and 20% accuracy on $\\mathcal{X}_{\\text{test}}$ (~5 minutes)."
      ]
    },
    {
      "metadata": {
        "id": "PI2nEsb9L5LL",
        "colab_type": "code",
        "colab": {}
      },
      "cell_type": "code",
      "source": [
        "import os\n",
        "import shutil\n",
        "import time\n",
        "\n",
        "import torch\n",
        "import torch.nn as nn\n",
        "import torch.nn.parallel\n",
        "import torch.backends.cudnn as cudnn\n",
        "import torch.optim\n",
        "import torch.utils.data\n",
        "import torchvision.transforms as transforms\n",
        "import torchvision.datasets as datasets\n",
        "import torchvision.models as models\n",
        "\n",
        "\n",
        "class Args:\n",
        "    def __init__(self, arch=\"resnet18\", workers=4, epochs=99, start_epoch=0, batch_size=16, lr=0.1, momentum=0.9, weight_decay=1e-4, print_freq=50, resume=\"\", evaluate=False, pretrained=False):\n",
        "        self.arch = arch\n",
        "        self.workers = workers\n",
        "        self.epochs = epochs\n",
        "        self.start_epoch = start_epoch\n",
        "        self.batch_size = batch_size\n",
        "        self.lr = lr\n",
        "        self.momentum = momentum\n",
        "        self.weight_decay = weight_decay\n",
        "        self.print_freq = print_freq\n",
        "        self.resume = resume\n",
        "        self.evaluate = evaluate\n",
        "        self.pretrained = pretrained\n",
        "\n",
        "\n",
        "class MyTensorDataset(torch.utils.data.Dataset):\n",
        "    \"\"\"Dataset wrapping tensors.\n",
        "\n",
        "    Each sample will be retrieved by indexing tensors along the first dimension.\n",
        "\n",
        "    Arguments:\n",
        "        *tensors (Tensor): tensors that have the same size of the first dimension.\n",
        "    \"\"\"\n",
        "\n",
        "    def __init__(self, X_tensor, Y_tensor, transform):\n",
        "        assert len(X_tensor) == len(Y_tensor)\n",
        "        self.X_tensor = X_tensor\n",
        "        self.Y_tensor = Y_tensor\n",
        "        self.transform = transform\n",
        "\n",
        "    def __getitem__(self, index):\n",
        "        return tuple([self.transform(self.X_tensor[index]), self.Y_tensor[index]])\n",
        "\n",
        "    def __len__(self):\n",
        "        return len(self.X_tensor)\n",
        "\n",
        "    \n",
        "class AverageMeter(object):\n",
        "        \"\"\"Computes and stores the average and current value\"\"\"\n",
        "        def __init__(self):\n",
        "            self.reset()\n",
        "\n",
        "        def reset(self):\n",
        "            self.val = 0\n",
        "            self.avg = 0\n",
        "            self.sum = 0\n",
        "            self.count = 0\n",
        "\n",
        "        def update(self, val, n=1):\n",
        "            self.val = val\n",
        "            self.sum += val * n\n",
        "            self.count += n\n",
        "            self.avg = self.sum / self.count\n",
        "\n",
        "        \n",
        "class Classifier:\n",
        "    \n",
        "    def __init__(self, args):\n",
        "        self.args = args\n",
        "    \n",
        "        model_names = sorted(name for name in models.__dict__\n",
        "            if name.islower() and not name.startswith(\"__\")\n",
        "            and callable(models.__dict__[name]))\n",
        "\n",
        "        print(\"model_names\", model_names)\n",
        "\n",
        "        self.best_prec1 = 0\n",
        "\n",
        "\n",
        "        self.les_epoch = []\n",
        "        self.les_train_loss = []\n",
        "        self.les_val_loss = []\n",
        "        self.les_train_top_1 = []\n",
        "        self.les_train_top_5 = []\n",
        "        self.les_val_top_1 = []\n",
        "        self.les_val_top_5 = []\n",
        "\n",
        "    def run_training(self):\n",
        "        \n",
        "        # create model\n",
        "        if self.args.pretrained:\n",
        "            print(\"=> using pre-trained model '{}'\".format(self.args.arch))\n",
        "            model = models.__dict__[self.args.arch](pretrained=True)\n",
        "        else:\n",
        "            print(\"=> creating model '{}'\".format(self.args.arch))\n",
        "            model = models.__dict__[self.args.arch]()\n",
        "\n",
        "        if self.args.arch.startswith('alexnet') or self.args.arch.startswith('vgg'):\n",
        "            model.features = torch.nn.DataParallel(model.features)\n",
        "            model.cuda()\n",
        "        else:\n",
        "            model = torch.nn.DataParallel(model).cuda()\n",
        "\n",
        "        cudnn.benchmark = True\n",
        "\n",
        "        # Data loading code\n",
        "        normalize = transforms.Normalize(mean=[0.485, 0.456, 0.406],\n",
        "                                         std=[0.229, 0.224, 0.225])\n",
        "\n",
        "        transf = transforms.Compose(\n",
        "            [transforms.ToPILImage(),\n",
        "             transforms.CenterCrop(224),\n",
        "             transforms.ToTensor(),\n",
        "             normalize\n",
        "            ])\n",
        "\n",
        "        # Train dataset \n",
        "        train_dataset =  MyTensorDataset(X_train, X_train_labels, transform=transf)\n",
        "        train_loader = torch.utils.data.DataLoader(\n",
        "            dataset=train_dataset,\n",
        "            batch_size=self.args.batch_size, shuffle=True,\n",
        "            num_workers=self.args.workers, pin_memory=True)\n",
        "\n",
        "        # Validation dataset\n",
        "        val_dataset =  MyTensorDataset(X_test, X_test_labels, transform=transf)\n",
        "        val_loader = torch.utils.data.DataLoader(\n",
        "            dataset=val_dataset,\n",
        "            batch_size=self.args.batch_size, shuffle=False,\n",
        "            num_workers=self.args.workers, pin_memory=True)\n",
        "\n",
        "        # define loss function (criterion) and pptimizer\n",
        "        criterion = nn.CrossEntropyLoss().cuda()\n",
        "\n",
        "        optimizer = torch.optim.SGD(model.parameters(), self.args.lr,\n",
        "                                    momentum=self.args.momentum,\n",
        "                                    weight_decay=self.args.weight_decay)\n",
        "\n",
        "        if self.args.evaluate:\n",
        "            self.validate(val_loader, model, criterion)\n",
        "            return\n",
        "\n",
        "        for epoch in range(self.args.start_epoch, self.args.epochs):\n",
        "            self.adjust_learning_rate(optimizer, epoch)\n",
        "\n",
        "            # train for one epoch\n",
        "            self.train(train_loader, model, criterion, optimizer, epoch)\n",
        "\n",
        "            # evaluate on validation set\n",
        "            prec1 = self.validate(val_loader, model, criterion)\n",
        "\n",
        "            # remember best prec@1 and save checkpoint\n",
        "            is_best = prec1 > self.best_prec1\n",
        "            self.best_prec1 = max(prec1, self.best_prec1)\n",
        "            self.save_checkpoint({\n",
        "                'epoch': epoch + 1,\n",
        "                'arch': self.args.arch,\n",
        "                'state_dict': model.state_dict(),\n",
        "                'best_prec1': self.best_prec1,\n",
        "            }, is_best)\n",
        "\n",
        "\n",
        "    def train(self, train_loader, model, criterion, optimizer, epoch):\n",
        "        batch_time = AverageMeter()\n",
        "        data_time = AverageMeter()\n",
        "        losses = AverageMeter()\n",
        "        top1 = AverageMeter()\n",
        "        top5 = AverageMeter()\n",
        "\n",
        "        # switch to train mode\n",
        "        model.train()\n",
        "\n",
        "        end = time.time()\n",
        "        for i, (input, target) in enumerate(train_loader):\n",
        "            # measure data loading time\n",
        "            data_time.update(time.time() - end)\n",
        "\n",
        "            target = target.cuda(non_blocking=True)\n",
        "            input_var = torch.autograd.Variable(input)\n",
        "            target_var = torch.autograd.Variable(target)\n",
        "\n",
        "            # compute output\n",
        "            output = model(input_var)\n",
        "            loss = criterion(output, target_var)\n",
        "\n",
        "            # measure accuracy and record loss\n",
        "            prec1, prec5 = self.accuracy(output.data, target, topk=(1, 5))\n",
        "            losses.update(loss.item(), input.size(0))\n",
        "            top1.update(prec1.item(), input.size(0))\n",
        "            top5.update(prec5.item(), input.size(0))\n",
        "\n",
        "            # compute gradient and do SGD step\n",
        "            optimizer.zero_grad()\n",
        "            loss.backward()\n",
        "            optimizer.step()\n",
        "\n",
        "            # measure elapsed time\n",
        "            batch_time.update(time.time() - end)\n",
        "            end = time.time()\n",
        "\n",
        "            if i % self.args.print_freq == 0:\n",
        "                print('Epoch: [{0}][{1}/{2}]\\t'\n",
        "                      'Time {batch_time.val:.3f} ({batch_time.avg:.3f})\\t'\n",
        "                      'Data {data_time.val:.3f} ({data_time.avg:.3f})\\t'\n",
        "                      'Loss {loss.val:.4f} ({loss.avg:.4f})\\t'\n",
        "                      'Prec@1 {top1.val:.3f} ({top1.avg:.3f})\\t'\n",
        "                      'Prec@5 {top5.val:.3f} ({top5.avg:.3f})'.format(\n",
        "                       epoch, i, len(train_loader), batch_time=batch_time,\n",
        "                       data_time=data_time, loss=losses, top1=top1, top5=top5))\n",
        "\n",
        "        self.les_epoch.append(epoch)\n",
        "        self.les_train_loss.append(losses.avg)\n",
        "        self.les_train_top_1.append(top1.avg)\n",
        "        self.les_train_top_5.append(top5.avg)\n",
        "\n",
        "\n",
        "    def validate(self, val_loader, model, criterion):\n",
        "        batch_time = AverageMeter()\n",
        "        losses = AverageMeter()\n",
        "        top1 = AverageMeter()\n",
        "        top5 = AverageMeter()\n",
        "\n",
        "        # switch to evaluate mode\n",
        "        model.eval()\n",
        "\n",
        "        end = time.time()\n",
        "        for i, (input, target) in enumerate(val_loader):\n",
        "            target = target.cuda(non_blocking=True)\n",
        "            input_var = torch.autograd.Variable(input, volatile=True)\n",
        "            target_var = torch.autograd.Variable(target, volatile=True)\n",
        "\n",
        "            # compute output\n",
        "            output = model(input_var)\n",
        "            loss = criterion(output, target_var)\n",
        "\n",
        "            # measure accuracy and record loss\n",
        "            prec1, prec5 = self.accuracy(output.data, target, topk=(1, 5))\n",
        "            losses.update(loss.item(), input.size(0))\n",
        "            top1.update(prec1.item(), input.size(0))\n",
        "            top5.update(prec5.item(), input.size(0))\n",
        "\n",
        "            # measure elapsed time\n",
        "            batch_time.update(time.time() - end)\n",
        "            end = time.time()\n",
        "\n",
        "            if i % self.args.print_freq == 0:\n",
        "                print('Test: [{0}/{1}]\\t'\n",
        "                      'Time {batch_time.val:.3f} ({batch_time.avg:.3f})\\t'\n",
        "                      'Loss {loss.val:.4f} ({loss.avg:.4f})\\t'\n",
        "                      'Prec@1 {top1.val:.3f} ({top1.avg:.3f})\\t'\n",
        "                      'Prec@5 {top5.val:.3f} ({top5.avg:.3f})'.format(\n",
        "                       i, len(val_loader), batch_time=batch_time, loss=losses,\n",
        "                       top1=top1, top5=top5))\n",
        "\n",
        "    #     print(' * Prec@1 {top1.avg:.3f} Prec@5 {top5.avg:.3f}'\n",
        "    #           .format(top1=top1, top5=top5))\n",
        "        self.les_val_loss.append(losses.avg)\n",
        "        self.les_val_top_1.append(top1.avg)\n",
        "        self.les_val_top_5.append(top5.avg)\n",
        "\n",
        "        return top1.avg\n",
        "\n",
        "\n",
        "    def save_checkpoint(self, state, is_best, filename='checkpoint.pth.tar'):\n",
        "        torch.save(state, filename)\n",
        "        if is_best:\n",
        "            shutil.copyfile(filename, 'model_best.pth.tar')\n",
        "\n",
        "\n",
        "    def adjust_learning_rate(self, optimizer, epoch):\n",
        "        \"\"\"Sets the learning rate to the initial LR decayed by 10 every 30 epochs\"\"\"\n",
        "        lr = self.args.lr * (0.1 ** (epoch // 30))\n",
        "        for param_group in optimizer.param_groups:\n",
        "            param_group['lr'] = lr\n",
        "\n",
        "\n",
        "    def accuracy(self, output, target, topk=(1,)):\n",
        "        \"\"\"Computes the precision@k for the specified values of k\"\"\"\n",
        "        maxk = max(topk)\n",
        "        batch_size = target.size(0)\n",
        "\n",
        "        _, pred = output.topk(maxk, 1, True, True)\n",
        "        pred = pred.t()\n",
        "        correct = pred.eq(target.view(1, -1).expand_as(pred))\n",
        "\n",
        "        res = []\n",
        "        for k in topk:\n",
        "            correct_k = correct[:k].view(-1).float().sum(0)\n",
        "            res.append(correct_k.mul_(100.0 / batch_size))\n",
        "        return res\n",
        "    \n",
        "    \n",
        "    def plot_results(self):\n",
        "    \n",
        "        les_plot = [\n",
        "            [\"train_loss\", self.les_train_loss], \n",
        "            [\"val_loss\", self.les_val_loss], \n",
        "            [\"train_top_1\", self.les_train_top_1], \n",
        "            [\"val_top_1\", self.les_val_top_1], \n",
        "            [\"train_top_5\", self.les_train_top_5], \n",
        "            [\"val_top_5\", self.les_val_top_5]\n",
        "        ]\n",
        "\n",
        "        plt.figure(num=None, figsize=(15, 10), dpi=80, facecolor='w', edgecolor='k')\n",
        "        plt.subplots_adjust(wspace=0.2, hspace=0.5)\n",
        "\n",
        "        for id_plot in range(0, len(les_plot), 2):\n",
        "            # train plot\n",
        "            plt.subplot(len(les_plot)//2, 2, id_plot+1)\n",
        "            plt.title(les_plot[id_plot][0])\n",
        "            plt.plot(self.les_epoch, les_plot[id_plot][1])\n",
        "\n",
        "            if \"loss\" in les_plot[id_plot][0]:\n",
        "                axes = plt.gca()\n",
        "                axes.set_ylim([0,10])\n",
        "\n",
        "            # validation plot\n",
        "            plt.subplot(len(les_plot)//2, 2, id_plot+2)\n",
        "            plt.title(les_plot[id_plot+1][0])\n",
        "            plt.plot(self.les_epoch, les_plot[id_plot+1][1])\n",
        "\n",
        "            if \"loss\" in les_plot[id_plot][0]:\n",
        "                axes = plt.gca()\n",
        "                axes.set_ylim([0,10])\n",
        "\n",
        "        plt.show()\n",
        "    "
      ],
      "execution_count": 0,
      "outputs": []
    },
    {
      "metadata": {
        "id": "NKO5M2s8XLAx",
        "colab_type": "code",
        "colab": {}
      },
      "cell_type": "code",
      "source": [
        "# Hyperparameters\n",
        "args = Args(\n",
        "        arch=\"resnet18\", \n",
        "        workers=4, \n",
        "        epochs=10, \n",
        "        start_epoch=0, \n",
        "        batch_size=10, \n",
        "        lr=0.01, \n",
        "        momentum=0.9, \n",
        "        weight_decay=1e-4, \n",
        "        print_freq=1000, \n",
        "        resume=\"\", \n",
        "        evaluate=False, \n",
        "        pretrained=False\n",
        ")\n",
        "\n",
        "classifier1 = Classifier(args)\n",
        "classifier1.run_training()\n",
        "classifier1.plot_results()"
      ],
      "execution_count": 0,
      "outputs": []
    },
    {
      "metadata": {
        "colab_type": "text",
        "id": "7iDpQVyBLySG"
      },
      "cell_type": "markdown",
      "source": [
        "## VGG-like architectures"
      ]
    },
    {
      "metadata": {
        "colab_type": "text",
        "id": "rwkHhRzKLySH"
      },
      "cell_type": "markdown",
      "source": [
        "__Question 4:__ Same question as before, but with a *VGG*. Which model do you recommend?"
      ]
    },
    {
      "metadata": {
        "colab_type": "code",
        "id": "H0UnhQVqLySI",
        "colab": {}
      },
      "cell_type": "code",
      "source": [
        "# Hyperparameters\n",
        "args = Args(\n",
        "        arch=\"vgg11\", \n",
        "        workers=4, \n",
        "        epochs=10, \n",
        "        start_epoch=0, \n",
        "        batch_size=10, \n",
        "        lr=0.01, \n",
        "        momentum=0.9, \n",
        "        weight_decay=1e-4, \n",
        "        print_freq=1000, \n",
        "        resume=\"\", \n",
        "        evaluate=False, \n",
        "        pretrained=False\n",
        ")\n",
        "\n",
        "classifier2 = Classifier(args)\n",
        "classifier2.run_training()\n",
        "classifier2.plot_results()"
      ],
      "execution_count": 0,
      "outputs": []
    },
    {
      "metadata": {
        "colab_type": "text",
        "id": "8Hij8vN4LySL"
      },
      "cell_type": "markdown",
      "source": [
        "# Transfer learning"
      ]
    },
    {
      "metadata": {
        "colab_type": "text",
        "id": "ta0dVVkLLySM"
      },
      "cell_type": "markdown",
      "source": [
        "We propose to use pre-trained models on a classification and generative task, in order to improve the results of our setting."
      ]
    },
    {
      "metadata": {
        "colab_type": "text",
        "id": "Pf28XHgMLySO"
      },
      "cell_type": "markdown",
      "source": [
        "## ImageNet features"
      ]
    },
    {
      "metadata": {
        "colab_type": "text",
        "id": "4yO8O4EBLySP"
      },
      "cell_type": "markdown",
      "source": [
        "Now, we will use some pre-trained models on ImageNet and see how well they compare on CIFAR. A list is available on: https://pytorch.org/docs/stable/torchvision/models.html.\n",
        "\n",
        "__Question 5:__ Pick a model from the list above, adapt it to CIFAR and retrain its final layer (or a block of layers, depending on the resources to which you have access to). Report its accuracy."
      ]
    },
    {
      "metadata": {
        "colab_type": "code",
        "id": "JeHJQDBhLySS",
        "colab": {}
      },
      "cell_type": "code",
      "source": [
        "# Hyperparameters\n",
        "args = Args(\n",
        "        arch=\"resnet18\", \n",
        "        workers=4, \n",
        "        epochs=10, \n",
        "        start_epoch=0, \n",
        "        batch_size=10, \n",
        "        lr=0.01, \n",
        "        momentum=0.9, \n",
        "        weight_decay=1e-4, \n",
        "        print_freq=1000, \n",
        "        resume=\"\", \n",
        "        evaluate=False, \n",
        "        pretrained=True\n",
        ")\n",
        "\n",
        "classifier3 = Classifier(args)\n",
        "classifier3.run_training()\n",
        "classifier3.plot_results()"
      ],
      "execution_count": 0,
      "outputs": []
    },
    {
      "metadata": {
        "colab_type": "text",
        "id": "2E-H4owPLySX"
      },
      "cell_type": "markdown",
      "source": [
        "## DCGan features"
      ]
    },
    {
      "metadata": {
        "colab_type": "text",
        "id": "mZdIQK-PLySZ"
      },
      "cell_type": "markdown",
      "source": [
        "GANs correspond to an unsupervised technique for generating images. In https://arxiv.org/pdf/1511.06434.pdf, Sec. 5.1 shows that the representation obtained from the Discriminator has some nice generalization properties on CIFAR10."
      ]
    },
    {
      "metadata": {
        "colab_type": "text",
        "id": "_O3oPSXFLySb"
      },
      "cell_type": "markdown",
      "source": [
        "__Question 6:__  Using for instance a pretrained model from https://github.com/soumith/dcgan.torch combined with https://github.com/pytorch/examples/tree/master/dcgan, propose a model to train on $\\mathcal{X}_{\\text{train}}$. Train it and report its accuracy.\n",
        "\n",
        "*Hint:* You can use the library: https://github.com/bshillingford/python-torchfile to load the weights of a model from torch(Lua) to pytorch(python)."
      ]
    },
    {
      "metadata": {
        "colab_type": "code",
        "id": "CHuL_Q9ELySc",
        "colab": {}
      },
      "cell_type": "code",
      "source": [
        ""
      ],
      "execution_count": 0,
      "outputs": []
    },
    {
      "metadata": {
        "colab_type": "text",
        "id": "uydU5kt6LySf"
      },
      "cell_type": "markdown",
      "source": [
        "# Incorporating *a priori*\n",
        "Geometrical *a priori* are appealing for image classification tasks. For now, we only consider linear transformations $\\mathcal{T}$ of the inputs $x:\\mathbb{S}^2\\rightarrow\\mathbb{R}$ where $\\mathbb{S}$ is the support of an image, meaning that:\n",
        "\n",
        "$$\\forall u\\in\\mathbb{S}^2,\\mathcal{T}(\\lambda x+\\mu y)(u)=\\lambda \\mathcal{T}(x)(u)+\\mu \\mathcal{T}(y)(u)\\,.$$\n",
        "\n",
        "For instance if an image had an infinite support, a translation $\\mathcal{T}_a$ by $a$ would lead to:\n",
        "\n",
        "$$\\forall u, \\mathcal{T}_a(x)(u)=x(u-a)\\,.$$\n",
        "\n",
        "Otherwise, one has to handle several boundary effects.\n",
        "\n",
        "__Question 7:__ Explain the issues when dealing with translations, rotations, scaling effects, color changes on $32\\times32$ images. Propose several ideas to tackle them."
      ]
    },
    {
      "metadata": {
        "colab_type": "text",
        "id": "489zmX-DLySg"
      },
      "cell_type": "markdown",
      "source": [
        ""
      ]
    },
    {
      "metadata": {
        "colab_type": "text",
        "id": "sOY-eddZLySg"
      },
      "cell_type": "markdown",
      "source": [
        "## Data augmentations"
      ]
    },
    {
      "metadata": {
        "colab_type": "text",
        "id": "I0pNAt9lLySh"
      },
      "cell_type": "markdown",
      "source": [
        "__Question 8:__ Propose a set of geometric transformation beyond translation, and incorporate them in your training pipeline. Train the model of the __Question 3__ and __Question 4__ with them and report the accuracies."
      ]
    },
    {
      "metadata": {
        "colab_type": "code",
        "id": "wNhwJCgELySi",
        "colab": {}
      },
      "cell_type": "code",
      "source": [
        ""
      ],
      "execution_count": 0,
      "outputs": []
    },
    {
      "metadata": {
        "colab_type": "text",
        "id": "XibVw8EPLySk"
      },
      "cell_type": "markdown",
      "source": [
        "## Wavelets\n",
        "\n",
        "__Question 9:__ Use a Scattering Transform as an input to a ResNet-like architecture. You can find a baseline here: https://arxiv.org/pdf/1703.08961.pdf.\n",
        "\n",
        "*Hint:* You can use the following package: https://www.kymat.io/"
      ]
    },
    {
      "metadata": {
        "colab_type": "text",
        "id": "JoIJZon2LySl"
      },
      "cell_type": "markdown",
      "source": [
        "# Weak supervision"
      ]
    },
    {
      "metadata": {
        "colab_type": "text",
        "id": "Kuc6HTaCLySn"
      },
      "cell_type": "markdown",
      "source": [
        "Weakly supervised techniques permit to tackle the issue of labeled data. An introduction to those techniques can be found here: https://hazyresearch.github.io/snorkel/blog/ws_blog_post.html.\n",
        "\n",
        "__(Open) Question 10:__ Pick a weakly supervised method that will potentially use $\\mathcal{X}\\cup\\mathcal{X}_{\\text{train}}$ to train a representation (a subset of $\\mathcal{X}$ is also fine). Evaluate it and report the accuracies. You should be careful in the choice of your method, in order to avoid heavy computational effort."
      ]
    },
    {
      "metadata": {
        "colab_type": "text",
        "id": "i9BIQ5THLySo"
      },
      "cell_type": "markdown",
      "source": [
        "# Conclusions"
      ]
    },
    {
      "metadata": {
        "colab_type": "text",
        "id": "12R2IhoKLySq"
      },
      "cell_type": "markdown",
      "source": [
        "__Question 11:__ Write a short report explaining the pros and the cons of each methods that you implemented. 25% of the grade of this project will correspond to this question, thus, it should be done carefully. In particular, please add a plot that will summarize all your numerical results."
      ]
    },
    {
      "metadata": {
        "colab_type": "text",
        "id": "dJLUmc4lLySr"
      },
      "cell_type": "markdown",
      "source": [
        ""
      ]
    }
  ]
}